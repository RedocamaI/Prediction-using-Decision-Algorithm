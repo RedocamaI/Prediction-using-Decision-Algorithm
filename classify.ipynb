{
 "cells": [
  {
   "cell_type": "markdown",
   "metadata": {},
   "source": [
    "# Data Analysis"
   ]
  },
  {
   "cell_type": "code",
   "execution_count": 160,
   "metadata": {},
   "outputs": [],
   "source": [
    "import numpy as np\n",
    "import pandas as pd\n",
    "import matplotlib.pyplot as plt\n",
    "import seaborn as sns\n",
    "from sklearn.tree import DecisionTreeClassifier"
   ]
  },
  {
   "cell_type": "code",
   "execution_count": 161,
   "metadata": {},
   "outputs": [],
   "source": [
    "iris_data = pd.read_csv(\"./Iris.csv\", index_col=0)"
   ]
  },
  {
   "cell_type": "code",
   "execution_count": 162,
   "metadata": {},
   "outputs": [
    {
     "data": {
      "text/html": [
       "<div>\n",
       "<style scoped>\n",
       "    .dataframe tbody tr th:only-of-type {\n",
       "        vertical-align: middle;\n",
       "    }\n",
       "\n",
       "    .dataframe tbody tr th {\n",
       "        vertical-align: top;\n",
       "    }\n",
       "\n",
       "    .dataframe thead th {\n",
       "        text-align: right;\n",
       "    }\n",
       "</style>\n",
       "<table border=\"1\" class=\"dataframe\">\n",
       "  <thead>\n",
       "    <tr style=\"text-align: right;\">\n",
       "      <th></th>\n",
       "      <th>SepalLengthCm</th>\n",
       "      <th>SepalWidthCm</th>\n",
       "      <th>PetalLengthCm</th>\n",
       "      <th>PetalWidthCm</th>\n",
       "      <th>Species</th>\n",
       "    </tr>\n",
       "    <tr>\n",
       "      <th>Id</th>\n",
       "      <th></th>\n",
       "      <th></th>\n",
       "      <th></th>\n",
       "      <th></th>\n",
       "      <th></th>\n",
       "    </tr>\n",
       "  </thead>\n",
       "  <tbody>\n",
       "    <tr>\n",
       "      <th>1</th>\n",
       "      <td>5.1</td>\n",
       "      <td>3.5</td>\n",
       "      <td>1.4</td>\n",
       "      <td>0.2</td>\n",
       "      <td>Iris-setosa</td>\n",
       "    </tr>\n",
       "    <tr>\n",
       "      <th>2</th>\n",
       "      <td>4.9</td>\n",
       "      <td>3.0</td>\n",
       "      <td>1.4</td>\n",
       "      <td>0.2</td>\n",
       "      <td>Iris-setosa</td>\n",
       "    </tr>\n",
       "    <tr>\n",
       "      <th>3</th>\n",
       "      <td>4.7</td>\n",
       "      <td>3.2</td>\n",
       "      <td>1.3</td>\n",
       "      <td>0.2</td>\n",
       "      <td>Iris-setosa</td>\n",
       "    </tr>\n",
       "    <tr>\n",
       "      <th>4</th>\n",
       "      <td>4.6</td>\n",
       "      <td>3.1</td>\n",
       "      <td>1.5</td>\n",
       "      <td>0.2</td>\n",
       "      <td>Iris-setosa</td>\n",
       "    </tr>\n",
       "    <tr>\n",
       "      <th>5</th>\n",
       "      <td>5.0</td>\n",
       "      <td>3.6</td>\n",
       "      <td>1.4</td>\n",
       "      <td>0.2</td>\n",
       "      <td>Iris-setosa</td>\n",
       "    </tr>\n",
       "  </tbody>\n",
       "</table>\n",
       "</div>"
      ],
      "text/plain": [
       "    SepalLengthCm  SepalWidthCm  PetalLengthCm  PetalWidthCm      Species\n",
       "Id                                                                       \n",
       "1             5.1           3.5            1.4           0.2  Iris-setosa\n",
       "2             4.9           3.0            1.4           0.2  Iris-setosa\n",
       "3             4.7           3.2            1.3           0.2  Iris-setosa\n",
       "4             4.6           3.1            1.5           0.2  Iris-setosa\n",
       "5             5.0           3.6            1.4           0.2  Iris-setosa"
      ]
     },
     "execution_count": 162,
     "metadata": {},
     "output_type": "execute_result"
    }
   ],
   "source": [
    "iris_data.head()"
   ]
  },
  {
   "cell_type": "markdown",
   "metadata": {},
   "source": [
    "### EDA"
   ]
  },
  {
   "cell_type": "markdown",
   "metadata": {},
   "source": [
    "- How large is the iris_data?"
   ]
  },
  {
   "cell_type": "code",
   "execution_count": 163,
   "metadata": {},
   "outputs": [
    {
     "data": {
      "text/plain": [
       "(150, 5)"
      ]
     },
     "execution_count": 163,
     "metadata": {},
     "output_type": "execute_result"
    }
   ],
   "source": [
    "iris_data.shape"
   ]
  },
  {
   "cell_type": "markdown",
   "metadata": {},
   "source": [
    "- So, this is a small data set, still we can draw some amazing insights from it, let's have a look!"
   ]
  },
  {
   "cell_type": "markdown",
   "metadata": {},
   "source": [
    "- **Features Info**"
   ]
  },
  {
   "cell_type": "code",
   "execution_count": 164,
   "metadata": {},
   "outputs": [
    {
     "data": {
      "text/plain": [
       "(150, 5)"
      ]
     },
     "execution_count": 4,
     "metadata": {},
     "output_type": "execute_result"
    }
   ],
   "source": [
    "iris_data.shape"
   ]
  },
  {
   "cell_type": "markdown",
   "metadata": {},
   "source": [
    "- So, this is a small data set, still we can draw some amazing insights from it, let's have a look!"
   ]
  },
  {
   "cell_type": "markdown",
   "metadata": {},
   "source": [
    "- **Features Info**"
   ]
  },
  {
   "cell_type": "code",
   "execution_count": 5,
   "metadata": {},
   "outputs": [
    {
     "name": "stdout",
     "output_type": "stream",
     "text": [
      "<class 'pandas.core.frame.DataFrame'>\n",
      "Int64Index: 150 entries, 1 to 150\n",
      "Data columns (total 5 columns):\n",
      " #   Column         Non-Null Count  Dtype  \n",
      "---  ------         --------------  -----  \n",
      " 0   SepalLengthCm  150 non-null    float64\n",
      " 1   SepalWidthCm   150 non-null    float64\n",
      " 2   PetalLengthCm  150 non-null    float64\n",
      " 3   PetalWidthCm   150 non-null    float64\n",
      " 4   Species        150 non-null    object \n",
      "dtypes: float64(4), object(1)\n",
      "memory usage: 7.0+ KB\n"
     ]
    }
   ],
   "source": [
    "iris_data.info()"
   ]
  },
  {
   "cell_type": "markdown",
   "metadata": {},
   "source": [
    "- All but **Species** features is *object* type. Rest are *float64* type.\n",
    "- Which is kind of obvious, because *Species* is a target variable agianst which our predictions will be compared.\n",
    "- Rest are *float64* type, this makes our *preprocessing* easier as we don't have to take care of the data type conversion."
   ]
  },
  {
   "cell_type": "markdown",
   "metadata": {},
   "source": [
    "##### Categorizing values in the dataset:\n",
    "    1. Categorical: finite set number of values\n",
    "    2. Continuous: infinite number of values\n",
    "    3. Discrete: finite number of values that must be numeric\n",
    "- we need to make a list seperating features of our dataset on the basis of above 3 points."
   ]
  },
  {
   "cell_type": "markdown",
   "metadata": {},
   "source": [
    "- check the unique values of each feature:\n",
    "    - if we miss any misformatted value.\n",
    "    - to identify which type these feature belong amongst the above 3."
   ]
  },
  {
   "cell_type": "code",
   "execution_count": 165,
   "metadata": {},
   "outputs": [],
   "source": [
    "def find_unique(col,data):\n",
    "    print('{}:{}'.format(col,data[col].unique()))"
   ]
  },
  {
   "cell_type": "code",
   "execution_count": 166,
   "metadata": {},
   "outputs": [
    {
     "name": "stdout",
     "output_type": "stream",
     "text": [
      "SepalLengthCm:[5.1 4.9 4.7 4.6 5.  5.4 4.4 4.8 4.3 5.8 5.7 5.2 5.5 4.5 5.3 7.  6.4 6.9\n",
      " 6.5 6.3 6.6 5.9 6.  6.1 5.6 6.7 6.2 6.8 7.1 7.6 7.3 7.2 7.7 7.4 7.9]\n",
      "SepalWidthCm:[3.5 3.  3.2 3.1 3.6 3.9 3.4 2.9 3.7 4.  4.4 3.8 3.3 4.1 4.2 2.3 2.8 2.4\n",
      " 2.7 2.  2.2 2.5 2.6]\n",
      "PetalLengthCm:[1.4 1.3 1.5 1.7 1.6 1.1 1.2 1.  1.9 4.7 4.5 4.9 4.  4.6 3.3 3.9 3.5 4.2\n",
      " 3.6 4.4 4.1 4.8 4.3 5.  3.8 3.7 5.1 3.  6.  5.9 5.6 5.8 6.6 6.3 6.1 5.3\n",
      " 5.5 6.7 6.9 5.7 6.4 5.4 5.2]\n",
      "PetalWidthCm:[0.2 0.4 0.3 0.1 0.5 0.6 1.4 1.5 1.3 1.6 1.  1.1 1.8 1.2 1.7 2.5 1.9 2.1\n",
      " 2.2 2.  2.4 2.3]\n",
      "Species:['Iris-setosa' 'Iris-versicolor' 'Iris-virginica']\n"
     ]
    }
   ],
   "source": [
    "for col in iris_data.columns:\n",
    "    find_unique(col,iris_data)"
   ]
  },
  {
   "cell_type": "markdown",
   "metadata": {},
   "source": [
    "- So, all but *Species* feature is categorical, and rest are continuous.\n",
    "- Also since the features(except *Species*) are *float64* type, and all of these are continuous, without any misformatted value, we won't be needing much of *data prerocessing*."
   ]
  },
  {
   "cell_type": "markdown",
   "metadata": {},
   "source": [
    "- Check for null/missing values"
   ]
  },
  {
   "cell_type": "code",
   "execution_count": 167,
   "metadata": {},
   "outputs": [
    {
     "data": {
      "text/plain": [
       "SepalLengthCm    0\n",
       "SepalWidthCm     0\n",
       "PetalLengthCm    0\n",
       "PetalWidthCm     0\n",
       "Species          0\n",
       "dtype: int64"
      ]
     },
     "execution_count": 167,
     "metadata": {},
     "output_type": "execute_result"
    }
   ],
   "source": [
    "iris_data.isnull().sum()"
   ]
  },
  {
   "cell_type": "markdown",
   "metadata": {},
   "source": [
    "- Visualize the missing values"
   ]
  },
  {
   "cell_type": "code",
   "execution_count": 168,
   "metadata": {},
   "outputs": [
    {
     "data": {
      "text/plain": [
       "<AxesSubplot:ylabel='Id'>"
      ]
     },
     "execution_count": 168,
     "metadata": {},
     "output_type": "execute_result"
    },
    {
     "data": {
      "image/png": "[encoded data removed]",
      "text/plain": [
       "<Figure size 432x288 with 1 Axes>"
      ]
     },
     "metadata": {
      "needs_background": "light"
     },
     "output_type": "display_data"
    }
   ],
   "source": [
    "sns.heatmap(iris_data.isnull(), cbar=False, cmap='viridis')"
   ]
  },
  {
   "cell_type": "markdown",
   "metadata": {},
   "source": [
    "- No null values in the data set\n",
    "- So, no imputation required."
   ]
  },
  {
   "cell_type": "markdown",
   "metadata": {},
   "source": [
    "- Now, lets explore the data.\n",
    "- Let's look at the relationships between the **target** and between other variables as well.\n",
    "- Setting the target variable in the below cell."
   ]
  },
  {
   "cell_type": "code",
   "execution_count": 169,
   "metadata": {},
   "outputs": [
    {
     "data": {
      "text/html": [
       "<div>\n",
       "<style scoped>\n",
       "    .dataframe tbody tr th:only-of-type {\n",
       "        vertical-align: middle;\n",
       "    }\n",
       "\n",
       "    .dataframe tbody tr th {\n",
       "        vertical-align: top;\n",
       "    }\n",
       "\n",
       "    .dataframe thead th {\n",
       "        text-align: right;\n",
       "    }\n",
       "</style>\n",
       "<table border=\"1\" class=\"dataframe\">\n",
       "  <thead>\n",
       "    <tr style=\"text-align: right;\">\n",
       "      <th></th>\n",
       "      <th>SepalLengthCm</th>\n",
       "      <th>SepalWidthCm</th>\n",
       "      <th>PetalLengthCm</th>\n",
       "      <th>PetalWidthCm</th>\n",
       "    </tr>\n",
       "    <tr>\n",
       "      <th>Id</th>\n",
       "      <th></th>\n",
       "      <th></th>\n",
       "      <th></th>\n",
       "      <th></th>\n",
       "    </tr>\n",
       "  </thead>\n",
       "  <tbody>\n",
       "    <tr>\n",
       "      <th>1</th>\n",
       "      <td>5.1</td>\n",
       "      <td>3.5</td>\n",
       "      <td>1.4</td>\n",
       "      <td>0.2</td>\n",
       "    </tr>\n",
       "    <tr>\n",
       "      <th>2</th>\n",
       "      <td>4.9</td>\n",
       "      <td>3.0</td>\n",
       "      <td>1.4</td>\n",
       "      <td>0.2</td>\n",
       "    </tr>\n",
       "    <tr>\n",
       "      <th>3</th>\n",
       "      <td>4.7</td>\n",
       "      <td>3.2</td>\n",
       "      <td>1.3</td>\n",
       "      <td>0.2</td>\n",
       "    </tr>\n",
       "    <tr>\n",
       "      <th>4</th>\n",
       "      <td>4.6</td>\n",
       "      <td>3.1</td>\n",
       "      <td>1.5</td>\n",
       "      <td>0.2</td>\n",
       "    </tr>\n",
       "    <tr>\n",
       "      <th>5</th>\n",
       "      <td>5.0</td>\n",
       "      <td>3.6</td>\n",
       "      <td>1.4</td>\n",
       "      <td>0.2</td>\n",
       "    </tr>\n",
       "  </tbody>\n",
       "</table>\n",
       "</div>"
      ],
      "text/plain": [
       "    SepalLengthCm  SepalWidthCm  PetalLengthCm  PetalWidthCm\n",
       "Id                                                          \n",
       "1             5.1           3.5            1.4           0.2\n",
       "2             4.9           3.0            1.4           0.2\n",
       "3             4.7           3.2            1.3           0.2\n",
       "4             4.6           3.1            1.5           0.2\n",
       "5             5.0           3.6            1.4           0.2"
      ]
     },
     "execution_count": 169,
     "metadata": {},
     "output_type": "execute_result"
    }
   ],
   "source": [
    "target = iris_data['Species']\n",
    "X = iris_data.drop('Species', axis=1)\n",
    "X.head()"
   ]
  },
  {
   "cell_type": "markdown",
   "metadata": {},
   "source": [
    "1. relationship between **SepalLengthCm** and **target** using histplot"
   ]
  },
  {
   "cell_type": "code",
   "execution_count": 170,
   "metadata": {},
   "outputs": [
    {
     "data": {
      "text/plain": [
       "<AxesSubplot:xlabel='SepalLengthCm', ylabel='Species'>"
      ]
     },
     "execution_count": 170,
     "metadata": {},
     "output_type": "execute_result"
    },
    {
     "data": {
      "image/png": "[encoded data removed]",
      "text/plain": [
       "<Figure size 432x288 with 1 Axes>"
      ]
     },
     "metadata": {
      "needs_background": "light"
     },
     "output_type": "display_data"
    }
   ],
   "source": [
    "sns.histplot(x=iris_data['SepalLengthCm'], y=target)"
   ]
  },
  {
   "cell_type": "markdown",
   "metadata": {},
   "source": [
    "- it can be seen from the above plot that *Iris-setosa* is almost classifiable while the rest form an overlapping perspective, when **SepalLengthCm >= 5.5**"
   ]
  },
  {
   "cell_type": "markdown",
   "metadata": {},
   "source": [
    "2. Relationship between *SepalWidthCm* and *target* variable: using histplot "
   ]
  },
  {
   "cell_type": "code",
   "execution_count": 171,
   "metadata": {},
   "outputs": [
    {
     "data": {
      "text/plain": [
       "<AxesSubplot:xlabel='SepalWidthCm', ylabel='Species'>"
      ]
     },
     "execution_count": 171,
     "metadata": {},
     "output_type": "execute_result"
    },
    {
     "data": {
      "image/png": "[encoded data removed]",
      "text/plain": [
       "<Figure size 432x288 with 1 Axes>"
      ]
     },
     "metadata": {
      "needs_background": "light"
     },
     "output_type": "display_data"
    }
   ],
   "source": [
    "sns.histplot(x=iris_data['SepalWidthCm'], y=target)"
   ]
  },
  {
   "cell_type": "markdown",
   "metadata": {},
   "source": [
    "- the above plot generates a fuzzy relationship between Species and SepalWidthCm.\n",
    "- So, this feature may not effect the accuracy of our model much.\n",
    "- this is because most of the classified region(of all the species) lies in the range of:\n",
    "\n",
    "    *SepalWidthCm >= 2.7 and SepalWidthCm <= 3.5*"
   ]
  },
  {
   "cell_type": "markdown",
   "metadata": {},
   "source": [
    "3. Relationship between *SepalLengthCm*/*SepalWidthCm* and target vairable: using swarmplot\n",
    "    - because from the above dataset it's clear that most of the points overlapp incase of SepalWidthCm, and easily classifiable incase of SepalLengthCm.\n",
    "    - So, from the plot below, we can infer that above the value of 1.75 *Iris-setosa* is most not present, hence easily classifiable at this margin."
   ]
  },
  {
   "cell_type": "code",
   "execution_count": 172,
   "metadata": {},
   "outputs": [
    {
     "data": {
      "text/plain": [
       "<AxesSubplot:ylabel='Species'>"
      ]
     },
     "execution_count": 172,
     "metadata": {},
     "output_type": "execute_result"
    },
    {
     "data": {
      "image/png": "[encoded data removed]",
      "text/plain": [
       "<Figure size 432x288 with 1 Axes>"
      ]
     },
     "metadata": {
      "needs_background": "light"
     },
     "output_type": "display_data"
    }
   ],
   "source": [
    "sns.swarmplot(x=iris_data['SepalLengthCm']/iris_data['SepalWidthCm'], y=target)"
   ]
  },
  {
   "cell_type": "markdown",
   "metadata": {},
   "source": [
    "- **Conclusion from the above plot**:\n",
    "    - The division of the above two features led us to a ***new*** feature!\n",
    "    - This feature can be used for classification.\n",
    "    - Thus, is an imporant feature."
   ]
  },
  {
   "cell_type": "markdown",
   "metadata": {},
   "source": [
    "4. Relationship between *PetalLengthCm* and *target*"
   ]
  },
  {
   "cell_type": "code",
   "execution_count": 173,
   "metadata": {},
   "outputs": [
    {
     "data": {
      "text/plain": [
       "<AxesSubplot:xlabel='PetalLengthCm', ylabel='Species'>"
      ]
     },
     "execution_count": 173,
     "metadata": {},
     "output_type": "execute_result"
    },
    {
     "data": {
      "image/png": "[encoded data removed]",
      "text/plain": [
       "<Figure size 720x432 with 1 Axes>"
      ]
     },
     "metadata": {
      "needs_background": "light"
     },
     "output_type": "display_data"
    }
   ],
   "source": [
    "plt.figure(figsize=(10,6))\n",
    "sns.swarmplot(data=iris_data, x='PetalLengthCm', y=target)"
   ]
  },
  {
   "cell_type": "markdown",
   "metadata": {},
   "source": [
    "- from the above swarmplot we can see that *Iris-setosa* is easily classifiable when the *PetalLengthCm* is in (0.5, 2).\n",
    "- Also, in the range (3, 4.8) *Iris-versicolor* can be indentified, and in the range (4.8, 7) *Iris-virginica* can be indentified.\n",
    "- So, the *PetalLengthCm* can be an **important** feature in our model."
   ]
  },
  {
   "cell_type": "markdown",
   "metadata": {},
   "source": [
    "5. Relationship between *PetalWidthCm* and *target* variable: using swarmplot"
   ]
  },
  {
   "cell_type": "code",
   "execution_count": 174,
   "metadata": {},
   "outputs": [
    {
     "data": {
      "text/plain": [
       "<AxesSubplot:xlabel='PetalWidthCm', ylabel='Species'>"
      ]
     },
     "execution_count": 174,
     "metadata": {},
     "output_type": "execute_result"
    },
    {
     "data": {
      "image/png": "[encoded data removed]",
      "text/plain": [
       "<Figure size 432x288 with 1 Axes>"
      ]
     },
     "metadata": {
      "needs_background": "light"
     },
     "output_type": "display_data"
    }
   ],
   "source": [
    "sns.stripplot(x=iris_data['PetalWidthCm'], y=target)"
   ]
  },
  {
   "cell_type": "markdown",
   "metadata": {},
   "source": [
    "- again the plot can be easily classified for *Iris-setosa* but not clear for the rest species.\n",
    "- in the below I've taken the petal_area(almost) to see it's variation with the target variable, let's see what I get."
   ]
  },
  {
   "cell_type": "code",
   "execution_count": 175,
   "metadata": {},
   "outputs": [
    {
     "data": {
      "text/plain": [
       "<AxesSubplot:ylabel='Species'>"
      ]
     },
     "execution_count": 175,
     "metadata": {},
     "output_type": "execute_result"
    },
    {
     "data": {
      "image/png": "[encoded data removed]",
      "text/plain": [
       "<Figure size 432x288 with 1 Axes>"
      ]
     },
     "metadata": {
      "needs_background": "light"
     },
     "output_type": "display_data"
    }
   ],
   "source": [
    "sns.stripplot(x=iris_data['PetalWidthCm']*iris_data['PetalLengthCm'], y=target)"
   ]
  },
  {
   "cell_type": "markdown",
   "metadata": {},
   "source": [
    "- Now the plot can be used to easily classify between almost all the three species.\n",
    "- for *Iris-setosa* the petal_area is in range (0, 1)\n",
    "- for *Iris-versicolor* the petal_area is in range (3, 8.5)\n",
    "- for *Iris-virginica* the petal_area is in range (7.5, 16)\n",
    "SO, there is really a small portion in the intersection of the above two species i.e: *Iris-versicolor* and *Iris-virginica*, which actually favours our analysis!"
   ]
  },
  {
   "cell_type": "markdown",
   "metadata": {},
   "source": [
    "- **Conclusion from the above plot**:\n",
    "    - We can design a new feature named: **PetalArea**, which can play an important role towards a good model."
   ]
  },
  {
   "cell_type": "markdown",
   "metadata": {},
   "source": [
    "### Feature Engineering"
   ]
  },
  {
   "cell_type": "markdown",
   "metadata": {},
   "source": [
    "#### 1. Feature selection\n",
    "- From the EDA I observed that all the *input* variables are *continuous*.\n",
    "- And that the *target* variable is *categorical*.\n",
    "- Which means that the best suitable method for feature selection is **ANOVA** or *Analysis Of VAriance*. "
   ]
  },
  {
   "cell_type": "code",
   "execution_count": 176,
   "metadata": {},
   "outputs": [
    {
     "data": {
      "text/html": [
       "<div>\n",
       "<style scoped>\n",
       "    .dataframe tbody tr th:only-of-type {\n",
       "        vertical-align: middle;\n",
       "    }\n",
       "\n",
       "    .dataframe tbody tr th {\n",
       "        vertical-align: top;\n",
       "    }\n",
       "\n",
       "    .dataframe thead th {\n",
       "        text-align: right;\n",
       "    }\n",
       "</style>\n",
       "<table border=\"1\" class=\"dataframe\">\n",
       "  <thead>\n",
       "    <tr style=\"text-align: right;\">\n",
       "      <th></th>\n",
       "      <th>feat</th>\n",
       "      <th>Score</th>\n",
       "    </tr>\n",
       "  </thead>\n",
       "  <tbody>\n",
       "    <tr>\n",
       "      <th>0</th>\n",
       "      <td>SepalLengthCm</td>\n",
       "      <td>119.264502</td>\n",
       "    </tr>\n",
       "    <tr>\n",
       "      <th>1</th>\n",
       "      <td>SepalWidthCm</td>\n",
       "      <td>47.364461</td>\n",
       "    </tr>\n",
       "    <tr>\n",
       "      <th>2</th>\n",
       "      <td>PetalLengthCm</td>\n",
       "      <td>1179.034328</td>\n",
       "    </tr>\n",
       "    <tr>\n",
       "      <th>3</th>\n",
       "      <td>PetalWidthCm</td>\n",
       "      <td>959.324406</td>\n",
       "    </tr>\n",
       "  </tbody>\n",
       "</table>\n",
       "</div>"
      ],
      "text/plain": [
       "            feat        Score\n",
       "0  SepalLengthCm   119.264502\n",
       "1   SepalWidthCm    47.364461\n",
       "2  PetalLengthCm  1179.034328\n",
       "3   PetalWidthCm   959.324406"
      ]
     },
     "execution_count": 176,
     "metadata": {},
     "output_type": "execute_result"
    }
   ],
   "source": [
    "from sklearn.feature_selection import SelectKBest\n",
    "from sklearn.feature_selection import f_classif\n",
    "\n",
    "best_feat = SelectKBest(f_classif, k=3)\n",
    "fit = best_feat.fit(iris_data.drop('Species', axis=1),iris_data['Species'])\n",
    "f_scores = pd.DataFrame(fit.scores_)\n",
    "f_cols = pd.DataFrame(X.columns)\n",
    "featureScores = pd.concat([f_cols,f_scores], axis=1)\n",
    "featureScores.columns = ['feat', 'Score']\n",
    "featureScores"
   ]
  },
  {
   "cell_type": "markdown",
   "metadata": {},
   "source": [
    "- from the above table the highest value is only possessed by:\n",
    "    - *SepalLengthCm*\n",
    "    - *PetalLengthCm*\n",
    "    - *PetalWidthCm*\n",
    "- so, these features are actually more related to the dependent feature.\n",
    "- And I'll consider only these 3 for my model, untill **Binning**"
   ]
  },
  {
   "cell_type": "markdown",
   "metadata": {},
   "source": [
    "- **Dropping the SepalWidthCm feature**"
   ]
  },
  {
   "cell_type": "code",
   "execution_count": 177,
   "metadata": {},
   "outputs": [
    {
     "data": {
      "text/html": [
       "<div>\n",
       "<style scoped>\n",
       "    .dataframe tbody tr th:only-of-type {\n",
       "        vertical-align: middle;\n",
       "    }\n",
       "\n",
       "    .dataframe tbody tr th {\n",
       "        vertical-align: top;\n",
       "    }\n",
       "\n",
       "    .dataframe thead th {\n",
       "        text-align: right;\n",
       "    }\n",
       "</style>\n",
       "<table border=\"1\" class=\"dataframe\">\n",
       "  <thead>\n",
       "    <tr style=\"text-align: right;\">\n",
       "      <th></th>\n",
       "      <th>SepalLengthCm</th>\n",
       "      <th>PetalLengthCm</th>\n",
       "      <th>PetalWidthCm</th>\n",
       "      <th>Species</th>\n",
       "    </tr>\n",
       "    <tr>\n",
       "      <th>Id</th>\n",
       "      <th></th>\n",
       "      <th></th>\n",
       "      <th></th>\n",
       "      <th></th>\n",
       "    </tr>\n",
       "  </thead>\n",
       "  <tbody>\n",
       "    <tr>\n",
       "      <th>1</th>\n",
       "      <td>5.1</td>\n",
       "      <td>1.4</td>\n",
       "      <td>0.2</td>\n",
       "      <td>Iris-setosa</td>\n",
       "    </tr>\n",
       "    <tr>\n",
       "      <th>2</th>\n",
       "      <td>4.9</td>\n",
       "      <td>1.4</td>\n",
       "      <td>0.2</td>\n",
       "      <td>Iris-setosa</td>\n",
       "    </tr>\n",
       "    <tr>\n",
       "      <th>3</th>\n",
       "      <td>4.7</td>\n",
       "      <td>1.3</td>\n",
       "      <td>0.2</td>\n",
       "      <td>Iris-setosa</td>\n",
       "    </tr>\n",
       "    <tr>\n",
       "      <th>4</th>\n",
       "      <td>4.6</td>\n",
       "      <td>1.5</td>\n",
       "      <td>0.2</td>\n",
       "      <td>Iris-setosa</td>\n",
       "    </tr>\n",
       "    <tr>\n",
       "      <th>5</th>\n",
       "      <td>5.0</td>\n",
       "      <td>1.4</td>\n",
       "      <td>0.2</td>\n",
       "      <td>Iris-setosa</td>\n",
       "    </tr>\n",
       "  </tbody>\n",
       "</table>\n",
       "</div>"
      ],
      "text/plain": [
       "    SepalLengthCm  PetalLengthCm  PetalWidthCm      Species\n",
       "Id                                                         \n",
       "1             5.1            1.4           0.2  Iris-setosa\n",
       "2             4.9            1.4           0.2  Iris-setosa\n",
       "3             4.7            1.3           0.2  Iris-setosa\n",
       "4             4.6            1.5           0.2  Iris-setosa\n",
       "5             5.0            1.4           0.2  Iris-setosa"
      ]
     },
     "execution_count": 177,
     "metadata": {},
     "output_type": "execute_result"
    }
   ],
   "source": [
    "iris_data.drop('SepalWidthCm', axis=1, inplace=True)\n",
    "iris_data.head()"
   ]
  },
  {
   "cell_type": "markdown",
   "metadata": {},
   "source": [
    "#### 2. Imbalanced dataset\n",
    "- There is also a chance of a imbalanced dataset.\n",
    "- is **iris_data** imbalanced?\n",
    "- let's find out!"
   ]
  },
  {
   "cell_type": "code",
   "execution_count": 178,
   "metadata": {},
   "outputs": [],
   "source": [
    "target_list = list(target)\n",
    "types = {'Iris-setosa':0, 'Iris-versicolor':0, 'Iris-virginica':0}\n"
   ]
  },
  {
   "cell_type": "code",
   "execution_count": 179,
   "metadata": {},
   "outputs": [],
   "source": [
    "def count_target(targetList, types):\n",
    "    for val in targetList:\n",
    "        types[val] += 1\n",
    "        "
   ]
  },
  {
   "cell_type": "code",
   "execution_count": 180,
   "metadata": {},
   "outputs": [
    {
     "name": "stdout",
     "output_type": "stream",
     "text": [
      "{'Iris-setosa': 0, 'Iris-versicolor': 0, 'Iris-virginica': 0}\n"
     ]
    }
   ],
   "source": [
    "print(types)"
   ]
  },
  {
   "cell_type": "markdown",
   "metadata": {},
   "source": [
    "- All the three categories of the **target** variable are balanced, because they have equal count in the dataset.\n",
    "- So, we don't need to worry about the imbalanced dataset!"
   ]
  },
  {
   "cell_type": "markdown",
   "metadata": {},
   "source": [
    "#### 3. Handle the outliers "
   ]
  },
  {
   "cell_type": "markdown",
   "metadata": {},
   "source": [
    "- Studying the outliers with the help of distributions.\n",
    "- Using the **kde plot**"
   ]
  },
  {
   "cell_type": "code",
   "execution_count": 181,
   "metadata": {},
   "outputs": [
    {
     "data": {
      "text/plain": [
       "<AxesSubplot:xlabel='SepalLengthCm', ylabel='Density'>"
      ]
     },
     "execution_count": 181,
     "metadata": {},
     "output_type": "execute_result"
    },
    {
     "data": {
      "image/png": "[encoded data removed]",
      "text/plain": [
       "<Figure size 432x288 with 1 Axes>"
      ]
     },
     "metadata": {
      "needs_background": "light"
     },
     "output_type": "display_data"
    }
   ],
   "source": [
    "sns.kdeplot(data=iris_data['SepalLengthCm'], shade=True)"
   ]
  },
  {
   "cell_type": "markdown",
   "metadata": {},
   "source": [
    "- the above plot shows that **SepalLengthCm** is almost normally skewed.\n",
    "- which indicates that there are not outliers in **SepalLengthCm**."
   ]
  },
  {
   "cell_type": "code",
   "execution_count": 182,
   "metadata": {},
   "outputs": [
    {
     "data": {
      "text/plain": [
       "<AxesSubplot:xlabel='PetalLengthCm', ylabel='Density'>"
      ]
     },
     "execution_count": 182,
     "metadata": {},
     "output_type": "execute_result"
    },
    {
     "data": {
      "image/png": "[encoded data removed]",
      "text/plain": [
       "<Figure size 432x288 with 1 Axes>"
      ]
     },
     "metadata": {
      "needs_background": "light"
     },
     "output_type": "display_data"
    }
   ],
   "source": [
    "sns.kdeplot(data=iris_data['PetalLengthCm'], shade=True)"
   ]
  },
  {
   "cell_type": "markdown",
   "metadata": {},
   "source": [
    "- again, the above plot does not contain out liers, because we cannot see any positive or negative skewness."
   ]
  },
  {
   "cell_type": "code",
   "execution_count": 183,
   "metadata": {},
   "outputs": [
    {
     "data": {
      "text/plain": [
       "<AxesSubplot:xlabel='PetalWidthCm', ylabel='Density'>"
      ]
     },
     "execution_count": 183,
     "metadata": {},
     "output_type": "execute_result"
    },
    {
     "data": {
      "image/png": "[encoded data removed]",
      "text/plain": [
       "<Figure size 432x288 with 1 Axes>"
      ]
     },
     "metadata": {
      "needs_background": "light"
     },
     "output_type": "display_data"
    }
   ],
   "source": [
    "sns.kdeplot(data=iris_data['PetalWidthCm'], shade=True)"
   ]
  },
  {
   "cell_type": "markdown",
   "metadata": {},
   "source": [
    "- Same goes for this plot above, *NO* positive or negative skewness so, probably no outliers."
   ]
  },
  {
   "cell_type": "markdown",
   "metadata": {},
   "source": [
    "- So, there are no outliers!"
   ]
  },
  {
   "cell_type": "markdown",
   "metadata": {},
   "source": [
    "#### 4. Feature creation"
   ]
  },
  {
   "cell_type": "markdown",
   "metadata": {},
   "source": [
    "- in the previous eda, I discussed about making some alterations in the feature, dividing, multiplying some of them, and saw some useful features, if imputed in the dataset can improve the model.\n",
    "- let's visit one of them again!"
   ]
  },
  {
   "cell_type": "markdown",
   "metadata": {},
   "source": [
    "- Showing the stripplot for the **Area** of the petal: *PetalLengthCm*X*PetalWidthCm*"
   ]
  },
  {
   "cell_type": "code",
   "execution_count": 184,
   "metadata": {},
   "outputs": [
    {
     "data": {
      "text/plain": [
       "<AxesSubplot:ylabel='Species'>"
      ]
     },
     "execution_count": 184,
     "metadata": {},
     "output_type": "execute_result"
    },
    {
     "data": {
      "image/png": "[encoded data removed]",
      "text/plain": [
       "<Figure size 432x288 with 1 Axes>"
      ]
     },
     "metadata": {
      "needs_background": "light"
     },
     "output_type": "display_data"
    }
   ],
   "source": [
    "sns.stripplot(x=iris_data['PetalLengthCm']*iris_data['PetalWidthCm'],y=target)"
   ]
  },
  {
   "cell_type": "markdown",
   "metadata": {},
   "source": [
    "- from the above plot it's crearly visible that all the 3 categories are classifiable.\n",
    "- So, it's worth it considering *PetalArea* as a new feature."
   ]
  },
  {
   "cell_type": "code",
   "execution_count": 185,
   "metadata": {},
   "outputs": [
    {
     "data": {
      "text/html": [
       "<div>\n",
       "<style scoped>\n",
       "    .dataframe tbody tr th:only-of-type {\n",
       "        vertical-align: middle;\n",
       "    }\n",
       "\n",
       "    .dataframe tbody tr th {\n",
       "        vertical-align: top;\n",
       "    }\n",
       "\n",
       "    .dataframe thead th {\n",
       "        text-align: right;\n",
       "    }\n",
       "</style>\n",
       "<table border=\"1\" class=\"dataframe\">\n",
       "  <thead>\n",
       "    <tr style=\"text-align: right;\">\n",
       "      <th></th>\n",
       "      <th>PetalArea</th>\n",
       "    </tr>\n",
       "    <tr>\n",
       "      <th>Id</th>\n",
       "      <th></th>\n",
       "    </tr>\n",
       "  </thead>\n",
       "  <tbody>\n",
       "    <tr>\n",
       "      <th>1</th>\n",
       "      <td>0.28</td>\n",
       "    </tr>\n",
       "    <tr>\n",
       "      <th>2</th>\n",
       "      <td>0.28</td>\n",
       "    </tr>\n",
       "    <tr>\n",
       "      <th>3</th>\n",
       "      <td>0.26</td>\n",
       "    </tr>\n",
       "    <tr>\n",
       "      <th>4</th>\n",
       "      <td>0.30</td>\n",
       "    </tr>\n",
       "    <tr>\n",
       "      <th>5</th>\n",
       "      <td>0.28</td>\n",
       "    </tr>\n",
       "    <tr>\n",
       "      <th>...</th>\n",
       "      <td>...</td>\n",
       "    </tr>\n",
       "    <tr>\n",
       "      <th>146</th>\n",
       "      <td>11.96</td>\n",
       "    </tr>\n",
       "    <tr>\n",
       "      <th>147</th>\n",
       "      <td>9.50</td>\n",
       "    </tr>\n",
       "    <tr>\n",
       "      <th>148</th>\n",
       "      <td>10.40</td>\n",
       "    </tr>\n",
       "    <tr>\n",
       "      <th>149</th>\n",
       "      <td>12.42</td>\n",
       "    </tr>\n",
       "    <tr>\n",
       "      <th>150</th>\n",
       "      <td>9.18</td>\n",
       "    </tr>\n",
       "  </tbody>\n",
       "</table>\n",
       "<p>150 rows × 1 columns</p>\n",
       "</div>"
      ],
      "text/plain": [
       "     PetalArea\n",
       "Id            \n",
       "1         0.28\n",
       "2         0.28\n",
       "3         0.26\n",
       "4         0.30\n",
       "5         0.28\n",
       "..         ...\n",
       "146      11.96\n",
       "147       9.50\n",
       "148      10.40\n",
       "149      12.42\n",
       "150       9.18\n",
       "\n",
       "[150 rows x 1 columns]"
      ]
     },
     "execution_count": 185,
     "metadata": {},
     "output_type": "execute_result"
    }
   ],
   "source": [
    "petal_area = iris_data['PetalLengthCm']*iris_data['PetalWidthCm']\n",
    "PetalArea = petal_area.to_frame(name='PetalArea')\n",
    "PetalArea"
   ]
  },
  {
   "cell_type": "code",
   "execution_count": 186,
   "metadata": {},
   "outputs": [],
   "source": [
    "iris_data['PetalArea'] = PetalArea"
   ]
  },
  {
   "cell_type": "code",
   "execution_count": 187,
   "metadata": {},
   "outputs": [
    {
     "data": {
      "text/html": [
       "<div>\n",
       "<style scoped>\n",
       "    .dataframe tbody tr th:only-of-type {\n",
       "        vertical-align: middle;\n",
       "    }\n",
       "\n",
       "    .dataframe tbody tr th {\n",
       "        vertical-align: top;\n",
       "    }\n",
       "\n",
       "    .dataframe thead th {\n",
       "        text-align: right;\n",
       "    }\n",
       "</style>\n",
       "<table border=\"1\" class=\"dataframe\">\n",
       "  <thead>\n",
       "    <tr style=\"text-align: right;\">\n",
       "      <th></th>\n",
       "      <th>SepalLengthCm</th>\n",
       "      <th>PetalLengthCm</th>\n",
       "      <th>PetalWidthCm</th>\n",
       "      <th>Species</th>\n",
       "      <th>PetalArea</th>\n",
       "    </tr>\n",
       "    <tr>\n",
       "      <th>Id</th>\n",
       "      <th></th>\n",
       "      <th></th>\n",
       "      <th></th>\n",
       "      <th></th>\n",
       "      <th></th>\n",
       "    </tr>\n",
       "  </thead>\n",
       "  <tbody>\n",
       "    <tr>\n",
       "      <th>1</th>\n",
       "      <td>5.1</td>\n",
       "      <td>1.4</td>\n",
       "      <td>0.2</td>\n",
       "      <td>Iris-setosa</td>\n",
       "      <td>0.28</td>\n",
       "    </tr>\n",
       "    <tr>\n",
       "      <th>2</th>\n",
       "      <td>4.9</td>\n",
       "      <td>1.4</td>\n",
       "      <td>0.2</td>\n",
       "      <td>Iris-setosa</td>\n",
       "      <td>0.28</td>\n",
       "    </tr>\n",
       "    <tr>\n",
       "      <th>3</th>\n",
       "      <td>4.7</td>\n",
       "      <td>1.3</td>\n",
       "      <td>0.2</td>\n",
       "      <td>Iris-setosa</td>\n",
       "      <td>0.26</td>\n",
       "    </tr>\n",
       "    <tr>\n",
       "      <th>4</th>\n",
       "      <td>4.6</td>\n",
       "      <td>1.5</td>\n",
       "      <td>0.2</td>\n",
       "      <td>Iris-setosa</td>\n",
       "      <td>0.30</td>\n",
       "    </tr>\n",
       "    <tr>\n",
       "      <th>5</th>\n",
       "      <td>5.0</td>\n",
       "      <td>1.4</td>\n",
       "      <td>0.2</td>\n",
       "      <td>Iris-setosa</td>\n",
       "      <td>0.28</td>\n",
       "    </tr>\n",
       "  </tbody>\n",
       "</table>\n",
       "</div>"
      ],
      "text/plain": [
       "    SepalLengthCm  PetalLengthCm  PetalWidthCm      Species  PetalArea\n",
       "Id                                                                    \n",
       "1             5.1            1.4           0.2  Iris-setosa       0.28\n",
       "2             4.9            1.4           0.2  Iris-setosa       0.28\n",
       "3             4.7            1.3           0.2  Iris-setosa       0.26\n",
       "4             4.6            1.5           0.2  Iris-setosa       0.30\n",
       "5             5.0            1.4           0.2  Iris-setosa       0.28"
      ]
     },
     "execution_count": 187,
     "metadata": {},
     "output_type": "execute_result"
    }
   ],
   "source": [
    "iris_data.head()"
   ]
  },
  {
   "cell_type": "markdown",
   "metadata": {},
   "source": [
    "- So, now we have our 4th feature, **PetalArea* !"
   ]
  },
  {
   "cell_type": "markdown",
   "metadata": {},
   "source": [
    "#### 5. Feature Scaling"
   ]
  },
  {
   "cell_type": "code",
   "execution_count": 188,
   "metadata": {},
   "outputs": [
    {
     "data": {
      "text/plain": [
       "PetalLengthCm    1.764420\n",
       "PetalWidthCm     0.763161\n",
       "PetalArea        4.713499\n",
       "SepalLengthCm    0.828066\n",
       "dtype: float64"
      ]
     },
     "execution_count": 188,
     "metadata": {},
     "output_type": "execute_result"
    }
   ],
   "source": [
    "iris_data[['PetalLengthCm', 'PetalWidthCm', 'PetalArea', 'SepalLengthCm']].std()"
   ]
  },
  {
   "cell_type": "code",
   "execution_count": 189,
   "metadata": {},
   "outputs": [
    {
     "data": {
      "text/plain": [
       "PetalLengthCm    3.758667\n",
       "PetalWidthCm     1.198667\n",
       "PetalArea        5.793133\n",
       "SepalLengthCm    5.843333\n",
       "dtype: float64"
      ]
     },
     "execution_count": 189,
     "metadata": {},
     "output_type": "execute_result"
    }
   ],
   "source": [
    "iris_data[['PetalLengthCm', 'PetalWidthCm', 'PetalArea', 'SepalLengthCm']].mean()"
   ]
  },
  {
   "cell_type": "markdown",
   "metadata": {},
   "source": [
    "- Since the mean, and standard deaviation are not 0, and 1 respectively, we've to perform *Standardization*.\n",
    "- but first let's drop the **target** variable."
   ]
  },
  {
   "cell_type": "code",
   "execution_count": 190,
   "metadata": {},
   "outputs": [],
   "source": [
    "iris_data.drop('Species', axis=1, inplace=True)"
   ]
  },
  {
   "cell_type": "markdown",
   "metadata": {},
   "source": [
    "- keeping the columns aside"
   ]
  },
  {
   "cell_type": "code",
   "execution_count": 191,
   "metadata": {},
   "outputs": [
    {
     "data": {
      "text/plain": [
       "['SepalLengthCm', 'PetalLengthCm', 'PetalWidthCm', 'PetalArea']"
      ]
     },
     "execution_count": 191,
     "metadata": {},
     "output_type": "execute_result"
    }
   ],
   "source": [
    "cols = list(iris_data.columns)\n",
    "cols"
   ]
  },
  {
   "cell_type": "code",
   "execution_count": 192,
   "metadata": {},
   "outputs": [],
   "source": [
    "from sklearn import preprocessing\n",
    "scaler = preprocessing.StandardScaler()\n",
    "iris_data = scaler.fit_transform(iris_data)"
   ]
  },
  {
   "cell_type": "markdown",
   "metadata": {},
   "source": [
    "- the above line returns a ndarray.\n",
    "- so, we need to convert it to a DataFrame"
   ]
  },
  {
   "cell_type": "code",
   "execution_count": 193,
   "metadata": {},
   "outputs": [
    {
     "data": {
      "text/plain": [
       "array([[-9.00681170e-01, -1.34127240e+00, -1.31297673e+00,\n",
       "        -1.17356615e+00],\n",
       "       [-1.14301691e+00, -1.34127240e+00, -1.31297673e+00,\n",
       "        -1.17356615e+00],\n",
       "       [-1.38535265e+00, -1.39813811e+00, -1.31297673e+00,\n",
       "        -1.17782349e+00],\n",
       "       [-1.50652052e+00, -1.28440670e+00, -1.31297673e+00,\n",
       "        -1.16930880e+00],\n",
       "       [-1.02184904e+00, -1.34127240e+00, -1.31297673e+00,\n",
       "        -1.17356615e+00],\n",
       "       [-5.37177559e-01, -1.17067529e+00, -1.05003079e+00,\n",
       "        -1.08841920e+00],\n",
       "       [-1.50652052e+00, -1.34127240e+00, -1.18150376e+00,\n",
       "        -1.14376472e+00],\n",
       "       [-1.02184904e+00, -1.28440670e+00, -1.31297673e+00,\n",
       "        -1.16930880e+00],\n",
       "       [-1.74885626e+00, -1.34127240e+00, -1.31297673e+00,\n",
       "        -1.17356615e+00],\n",
       "       [-1.14301691e+00, -1.28440670e+00, -1.44444970e+00,\n",
       "        -1.20123890e+00],\n",
       "       [-5.37177559e-01, -1.28440670e+00, -1.31297673e+00,\n",
       "        -1.16930880e+00],\n",
       "       [-1.26418478e+00, -1.22754100e+00, -1.31297673e+00,\n",
       "        -1.16505145e+00],\n",
       "       [-1.26418478e+00, -1.34127240e+00, -1.44444970e+00,\n",
       "        -1.20336758e+00],\n",
       "       [-1.87002413e+00, -1.51186952e+00, -1.44444970e+00,\n",
       "        -1.20975360e+00],\n",
       "       [-5.25060772e-02, -1.45500381e+00, -1.31297673e+00,\n",
       "        -1.18208084e+00],\n",
       "       [-1.73673948e-01, -1.28440670e+00, -1.05003079e+00,\n",
       "        -1.10544859e+00],\n",
       "       [-5.37177559e-01, -1.39813811e+00, -1.05003079e+00,\n",
       "        -1.12247798e+00],\n",
       "       [-9.00681170e-01, -1.34127240e+00, -1.18150376e+00,\n",
       "        -1.14376472e+00],\n",
       "       [-1.73673948e-01, -1.17067529e+00, -1.18150376e+00,\n",
       "        -1.12460665e+00],\n",
       "       [-9.00681170e-01, -1.28440670e+00, -1.18150376e+00,\n",
       "        -1.13737870e+00],\n",
       "       [-5.37177559e-01, -1.17067529e+00, -1.31297673e+00,\n",
       "        -1.16079411e+00],\n",
       "       [-9.00681170e-01, -1.28440670e+00, -1.05003079e+00,\n",
       "        -1.10544859e+00],\n",
       "       [-1.50652052e+00, -1.56873522e+00, -1.31297673e+00,\n",
       "        -1.19059554e+00],\n",
       "       [-9.00681170e-01, -1.17067529e+00, -9.18557817e-01,\n",
       "        -1.05223175e+00],\n",
       "       [-1.26418478e+00, -1.05694388e+00, -1.31297673e+00,\n",
       "        -1.15227941e+00],\n",
       "       [-1.02184904e+00, -1.22754100e+00, -1.31297673e+00,\n",
       "        -1.16505145e+00],\n",
       "       [-1.02184904e+00, -1.22754100e+00, -1.05003079e+00,\n",
       "        -1.09693390e+00],\n",
       "       [-7.79513300e-01, -1.28440670e+00, -1.31297673e+00,\n",
       "        -1.16930880e+00],\n",
       "       [-7.79513300e-01, -1.34127240e+00, -1.31297673e+00,\n",
       "        -1.17356615e+00],\n",
       "       [-1.38535265e+00, -1.22754100e+00, -1.31297673e+00,\n",
       "        -1.16505145e+00],\n",
       "       [-1.26418478e+00, -1.22754100e+00, -1.31297673e+00,\n",
       "        -1.16505145e+00],\n",
       "       [-5.37177559e-01, -1.28440670e+00, -1.05003079e+00,\n",
       "        -1.10544859e+00],\n",
       "       [-7.79513300e-01, -1.28440670e+00, -1.44444970e+00,\n",
       "        -1.20123890e+00],\n",
       "       [-4.16009689e-01, -1.34127240e+00, -1.31297673e+00,\n",
       "        -1.17356615e+00],\n",
       "       [-1.14301691e+00, -1.28440670e+00, -1.44444970e+00,\n",
       "        -1.20123890e+00],\n",
       "       [-1.02184904e+00, -1.45500381e+00, -1.31297673e+00,\n",
       "        -1.18208084e+00],\n",
       "       [-4.16009689e-01, -1.39813811e+00, -1.31297673e+00,\n",
       "        -1.17782349e+00],\n",
       "       [-1.14301691e+00, -1.28440670e+00, -1.44444970e+00,\n",
       "        -1.20123890e+00],\n",
       "       [-1.74885626e+00, -1.39813811e+00, -1.31297673e+00,\n",
       "        -1.17782349e+00],\n",
       "       [-9.00681170e-01, -1.28440670e+00, -1.31297673e+00,\n",
       "        -1.16930880e+00],\n",
       "       [-1.02184904e+00, -1.39813811e+00, -1.18150376e+00,\n",
       "        -1.15015074e+00],\n",
       "       [-1.62768839e+00, -1.39813811e+00, -1.18150376e+00,\n",
       "        -1.15015074e+00],\n",
       "       [-1.74885626e+00, -1.39813811e+00, -1.31297673e+00,\n",
       "        -1.17782349e+00],\n",
       "       [-1.02184904e+00, -1.22754100e+00, -7.87084847e-01,\n",
       "        -1.02881634e+00],\n",
       "       [-9.00681170e-01, -1.05694388e+00, -1.05003079e+00,\n",
       "        -1.07138981e+00],\n",
       "       [-1.26418478e+00, -1.34127240e+00, -1.18150376e+00,\n",
       "        -1.14376472e+00],\n",
       "       [-9.00681170e-01, -1.22754100e+00, -1.31297673e+00,\n",
       "        -1.16505145e+00],\n",
       "       [-1.50652052e+00, -1.34127240e+00, -1.31297673e+00,\n",
       "        -1.17356615e+00],\n",
       "       [-6.58345429e-01, -1.28440670e+00, -1.31297673e+00,\n",
       "        -1.16930880e+00],\n",
       "       [-1.02184904e+00, -1.34127240e+00, -1.31297673e+00,\n",
       "        -1.17356615e+00],\n",
       "       [ 1.40150837e+00,  5.35295827e-01,  2.64698913e-01,\n",
       "         1.67498231e-01],\n",
       "       [ 6.74501145e-01,  4.21564419e-01,  3.96171883e-01,\n",
       "         2.03685683e-01],\n",
       "       [ 1.28034050e+00,  6.49027235e-01,  3.96171883e-01,\n",
       "         3.31406100e-01],\n",
       "       [-4.16009689e-01,  1.37235899e-01,  1.33225943e-01,\n",
       "        -1.26258728e-01],\n",
       "       [ 7.95669016e-01,  4.78430123e-01,  3.96171883e-01,\n",
       "         2.35615787e-01],\n",
       "       [-1.73673948e-01,  4.21564419e-01,  1.33225943e-01,\n",
       "         1.21050573e-02],\n",
       "       [ 5.53333275e-01,  5.35295827e-01,  5.27644853e-01,\n",
       "         3.67593551e-01],\n",
       "       [-1.14301691e+00, -2.60824029e-01, -2.61192967e-01,\n",
       "        -5.30706715e-01],\n",
       "       [ 9.16836886e-01,  4.78430123e-01,  1.33225943e-01,\n",
       "         3.97778143e-02],\n",
       "       [-7.79513300e-01,  8.03701950e-02,  2.64698913e-01,\n",
       "        -7.09132138e-02],\n",
       "       [-1.02184904e+00, -1.47092621e-01, -2.61192967e-01,\n",
       "        -4.88133243e-01],\n",
       "       [ 6.86617933e-02,  2.50967307e-01,  3.96171883e-01,\n",
       "         1.07895370e-01],\n",
       "       [ 1.89829664e-01,  1.37235899e-01, -2.61192967e-01,\n",
       "        -3.81699562e-01],\n",
       "       [ 3.10997534e-01,  5.35295827e-01,  2.64698913e-01,\n",
       "         1.67498231e-01],\n",
       "       [-2.94841818e-01, -9.02269170e-02,  1.33225943e-01,\n",
       "        -2.36949756e-01],\n",
       "       [ 1.03800476e+00,  3.64698715e-01,  2.64698913e-01,\n",
       "         7.80939394e-02],\n",
       "       [-2.94841818e-01,  4.21564419e-01,  3.96171883e-01,\n",
       "         2.03685683e-01],\n",
       "       [-5.25060772e-02,  1.94101603e-01, -2.61192967e-01,\n",
       "        -3.60412826e-01],\n",
       "       [ 4.32165405e-01,  4.21564419e-01,  3.96171883e-01,\n",
       "         2.03685683e-01],\n",
       "       [-2.94841818e-01,  8.03701950e-02, -1.29719997e-01,\n",
       "        -3.19968027e-01],\n",
       "       [ 6.86617933e-02,  5.92161531e-01,  7.90590793e-01,\n",
       "         6.06004997e-01],\n",
       "       [ 3.10997534e-01,  1.37235899e-01,  1.33225943e-01,\n",
       "        -1.26258728e-01],\n",
       "       [ 5.53333275e-01,  6.49027235e-01,  3.96171883e-01,\n",
       "         3.31406100e-01],\n",
       "       [ 3.10997534e-01,  5.35295827e-01,  1.75297293e-03,\n",
       "        -3.25970887e-02],\n",
       "       [ 6.74501145e-01,  3.07833011e-01,  1.33225943e-01,\n",
       "        -4.32404567e-02],\n",
       "       [ 9.16836886e-01,  3.64698715e-01,  2.64698913e-01,\n",
       "         7.80939394e-02],\n",
       "       [ 1.15917263e+00,  5.92161531e-01,  2.64698913e-01,\n",
       "         1.97299662e-01],\n",
       "       [ 1.03800476e+00,  7.05892939e-01,  6.59117823e-01,\n",
       "         5.76203566e-01],\n",
       "       [ 1.89829664e-01,  4.21564419e-01,  3.96171883e-01,\n",
       "         2.03685683e-01],\n",
       "       [-1.73673948e-01, -1.47092621e-01, -2.61192967e-01,\n",
       "        -4.88133243e-01],\n",
       "       [-4.16009689e-01,  2.35044910e-02, -1.29719997e-01,\n",
       "        -3.43383437e-01],\n",
       "       [-4.16009689e-01, -3.33612130e-02, -2.61192967e-01,\n",
       "        -4.45559770e-01],\n",
       "       [-5.25060772e-02,  8.03701950e-02,  1.75297293e-03,\n",
       "        -2.36949756e-01],\n",
       "       [ 1.89829664e-01,  7.62758643e-01,  5.27644853e-01,\n",
       "         5.03828663e-01],\n",
       "       [-5.37177559e-01,  4.21564419e-01,  3.96171883e-01,\n",
       "         2.03685683e-01],\n",
       "       [ 1.89829664e-01,  4.21564419e-01,  5.27644853e-01,\n",
       "         2.99475996e-01],\n",
       "       [ 1.03800476e+00,  5.35295827e-01,  3.96171883e-01,\n",
       "         2.67545891e-01],\n",
       "       [ 5.53333275e-01,  3.64698715e-01,  1.33225943e-01,\n",
       "        -1.55676997e-02],\n",
       "       [-2.94841818e-01,  1.94101603e-01,  1.33225943e-01,\n",
       "        -9.85859708e-02],\n",
       "       [-4.16009689e-01,  1.37235899e-01,  1.33225943e-01,\n",
       "        -1.26258728e-01],\n",
       "       [-4.16009689e-01,  3.64698715e-01,  1.75297293e-03,\n",
       "        -1.09229339e-01],\n",
       "       [ 3.10997534e-01,  4.78430123e-01,  2.64698913e-01,\n",
       "         1.37696801e-01],\n",
       "       [-5.25060772e-02,  1.37235899e-01,  1.75297293e-03,\n",
       "        -2.11405673e-01],\n",
       "       [-1.02184904e+00, -2.60824029e-01, -2.61192967e-01,\n",
       "        -5.30706715e-01],\n",
       "       [-2.94841818e-01,  2.50967307e-01,  1.33225943e-01,\n",
       "        -7.09132138e-02],\n",
       "       [-1.73673948e-01,  2.50967307e-01,  1.75297293e-03,\n",
       "        -1.60317506e-01],\n",
       "       [-1.73673948e-01,  2.50967307e-01,  1.33225943e-01,\n",
       "        -7.09132138e-02],\n",
       "       [ 4.32165405e-01,  3.07833011e-01,  1.33225943e-01,\n",
       "        -4.32404567e-02],\n",
       "       [-9.00681170e-01, -4.31421141e-01, -1.29719997e-01,\n",
       "        -5.30706715e-01],\n",
       "       [-1.73673948e-01,  1.94101603e-01,  1.33225943e-01,\n",
       "        -9.85859708e-02],\n",
       "       [ 5.53333275e-01,  1.27454998e+00,  1.71090158e+00,\n",
       "         1.95984142e+00],\n",
       "       [-5.25060772e-02,  7.62758643e-01,  9.22063763e-01,\n",
       "         8.29515726e-01],\n",
       "       [ 1.52267624e+00,  1.21768427e+00,  1.18500970e+00,\n",
       "         1.40425760e+00],\n",
       "       [ 5.53333275e-01,  1.04708716e+00,  7.90590793e-01,\n",
       "         9.12533997e-01],\n",
       "       [ 7.95669016e-01,  1.16081857e+00,  1.31648267e+00,\n",
       "         1.48301853e+00],\n",
       "       [ 2.12851559e+00,  1.61574420e+00,  1.18500970e+00,\n",
       "         1.71717262e+00],\n",
       "       [-1.14301691e+00,  4.21564419e-01,  6.59117823e-01,\n",
       "         3.95266308e-01],\n",
       "       [ 1.76501198e+00,  1.44514709e+00,  7.90590793e-01,\n",
       "         1.18074687e+00],\n",
       "       [ 1.03800476e+00,  1.16081857e+00,  7.90590793e-01,\n",
       "         9.89166248e-01],\n",
       "       [ 1.64384411e+00,  1.33141568e+00,  1.71090158e+00,\n",
       "         2.01305826e+00],\n",
       "       [ 7.95669016e-01,  7.62758643e-01,  1.05353673e+00,\n",
       "         9.38078081e-01],\n",
       "       [ 6.74501145e-01,  8.76490051e-01,  9.22063763e-01,\n",
       "         9.10405324e-01],\n",
       "       [ 1.15917263e+00,  9.90221459e-01,  1.18500970e+00,\n",
       "         1.22544902e+00],\n",
       "       [-1.73673948e-01,  7.05892939e-01,  1.05353673e+00,\n",
       "         8.95504609e-01],\n",
       "       [-5.25060772e-02,  7.62758643e-01,  1.57942861e+00,\n",
       "         1.37232750e+00],\n",
       "       [ 6.74501145e-01,  8.76490051e-01,  1.44795564e+00,\n",
       "         1.36168413e+00],\n",
       "       [ 7.95669016e-01,  9.90221459e-01,  7.90590793e-01,\n",
       "         8.74217872e-01],\n",
       "       [ 2.24968346e+00,  1.67260991e+00,  1.31648267e+00,\n",
       "         1.90449590e+00],\n",
       "       [ 2.24968346e+00,  1.78634131e+00,  1.44795564e+00,\n",
       "         2.14503602e+00],\n",
       "       [ 1.89829664e-01,  7.05892939e-01,  3.96171883e-01,\n",
       "         3.63336204e-01],\n",
       "       [ 1.28034050e+00,  1.10395287e+00,  1.44795564e+00,\n",
       "         1.55752210e+00],\n",
       "       [-2.94841818e-01,  6.49027235e-01,  1.05353673e+00,\n",
       "         8.52931136e-01],\n",
       "       [ 2.24968346e+00,  1.67260991e+00,  1.05353673e+00,\n",
       "         1.61925364e+00],\n",
       "       [ 5.53333275e-01,  6.49027235e-01,  7.90590793e-01,\n",
       "         6.44321122e-01],\n",
       "       [ 1.03800476e+00,  1.10395287e+00,  1.18500970e+00,\n",
       "         1.31485331e+00],\n",
       "       [ 1.64384411e+00,  1.27454998e+00,  7.90590793e-01,\n",
       "         1.06579850e+00],\n",
       "       [ 4.32165405e-01,  5.92161531e-01,  7.90590793e-01,\n",
       "         6.06004997e-01],\n",
       "       [ 3.10997534e-01,  6.49027235e-01,  7.90590793e-01,\n",
       "         6.44321122e-01],\n",
       "       [ 6.74501145e-01,  1.04708716e+00,  1.18500970e+00,\n",
       "         1.27015117e+00],\n",
       "       [ 1.64384411e+00,  1.16081857e+00,  5.27644853e-01,\n",
       "         7.42240108e-01],\n",
       "       [ 1.88617985e+00,  1.33141568e+00,  9.22063763e-01,\n",
       "         1.23396371e+00],\n",
       "       [ 2.49201920e+00,  1.50201279e+00,  1.05353673e+00,\n",
       "         1.49153322e+00],\n",
       "       [ 6.74501145e-01,  1.04708716e+00,  1.31648267e+00,\n",
       "         1.38935689e+00],\n",
       "       [ 5.53333275e-01,  7.62758643e-01,  3.96171883e-01,\n",
       "         3.95266308e-01],\n",
       "       [ 3.10997534e-01,  1.04708716e+00,  2.64698913e-01,\n",
       "         4.35711107e-01],\n",
       "       [ 2.24968346e+00,  1.33141568e+00,  1.44795564e+00,\n",
       "         1.75336008e+00],\n",
       "       [ 5.53333275e-01,  1.04708716e+00,  1.57942861e+00,\n",
       "         1.62776833e+00],\n",
       "       [ 6.74501145e-01,  9.90221459e-01,  7.90590793e-01,\n",
       "         8.74217872e-01],\n",
       "       [ 1.89829664e-01,  5.92161531e-01,  7.90590793e-01,\n",
       "         6.06004997e-01],\n",
       "       [ 1.28034050e+00,  9.33355755e-01,  1.18500970e+00,\n",
       "         1.18074687e+00],\n",
       "       [ 1.03800476e+00,  1.04708716e+00,  1.57942861e+00,\n",
       "         1.62776833e+00],\n",
       "       [ 1.28034050e+00,  7.62758643e-01,  1.44795564e+00,\n",
       "         1.26376514e+00],\n",
       "       [-5.25060772e-02,  7.62758643e-01,  9.22063763e-01,\n",
       "         8.29515726e-01],\n",
       "       [ 1.15917263e+00,  1.21768427e+00,  1.44795564e+00,\n",
       "         1.65544109e+00],\n",
       "       [ 1.03800476e+00,  1.10395287e+00,  1.71090158e+00,\n",
       "         1.80019090e+00],\n",
       "       [ 1.03800476e+00,  8.19624347e-01,  1.44795564e+00,\n",
       "         1.31272464e+00],\n",
       "       [ 5.53333275e-01,  7.05892939e-01,  9.22063763e-01,\n",
       "         7.89070928e-01],\n",
       "       [ 7.95669016e-01,  8.19624347e-01,  1.05353673e+00,\n",
       "         9.80651553e-01],\n",
       "       [ 4.32165405e-01,  9.33355755e-01,  1.44795564e+00,\n",
       "         1.41064362e+00],\n",
       "       [ 6.86617933e-02,  7.62758643e-01,  7.90590793e-01,\n",
       "         7.20953372e-01]])"
      ]
     },
     "execution_count": 193,
     "metadata": {},
     "output_type": "execute_result"
    }
   ],
   "source": [
    "iris_data"
   ]
  },
  {
   "cell_type": "code",
   "execution_count": 194,
   "metadata": {},
   "outputs": [
    {
     "data": {
      "text/plain": [
       "numpy.ndarray"
      ]
     },
     "execution_count": 194,
     "metadata": {},
     "output_type": "execute_result"
    }
   ],
   "source": [
    "type(iris_data)"
   ]
  },
  {
   "cell_type": "markdown",
   "metadata": {},
   "source": [
    "- Converting ndarray to DataFrame"
   ]
  },
  {
   "cell_type": "code",
   "execution_count": 195,
   "metadata": {},
   "outputs": [
    {
     "data": {
      "text/html": [
       "<div>\n",
       "<style scoped>\n",
       "    .dataframe tbody tr th:only-of-type {\n",
       "        vertical-align: middle;\n",
       "    }\n",
       "\n",
       "    .dataframe tbody tr th {\n",
       "        vertical-align: top;\n",
       "    }\n",
       "\n",
       "    .dataframe thead th {\n",
       "        text-align: right;\n",
       "    }\n",
       "</style>\n",
       "<table border=\"1\" class=\"dataframe\">\n",
       "  <thead>\n",
       "    <tr style=\"text-align: right;\">\n",
       "      <th></th>\n",
       "      <th>SepalLengthCm</th>\n",
       "      <th>PetalLengthCm</th>\n",
       "      <th>PetalWidthCm</th>\n",
       "      <th>PetalArea</th>\n",
       "    </tr>\n",
       "  </thead>\n",
       "  <tbody>\n",
       "    <tr>\n",
       "      <th>0</th>\n",
       "      <td>-0.900681</td>\n",
       "      <td>-1.341272</td>\n",
       "      <td>-1.312977</td>\n",
       "      <td>-1.173566</td>\n",
       "    </tr>\n",
       "    <tr>\n",
       "      <th>1</th>\n",
       "      <td>-1.143017</td>\n",
       "      <td>-1.341272</td>\n",
       "      <td>-1.312977</td>\n",
       "      <td>-1.173566</td>\n",
       "    </tr>\n",
       "    <tr>\n",
       "      <th>2</th>\n",
       "      <td>-1.385353</td>\n",
       "      <td>-1.398138</td>\n",
       "      <td>-1.312977</td>\n",
       "      <td>-1.177823</td>\n",
       "    </tr>\n",
       "    <tr>\n",
       "      <th>3</th>\n",
       "      <td>-1.506521</td>\n",
       "      <td>-1.284407</td>\n",
       "      <td>-1.312977</td>\n",
       "      <td>-1.169309</td>\n",
       "    </tr>\n",
       "    <tr>\n",
       "      <th>4</th>\n",
       "      <td>-1.021849</td>\n",
       "      <td>-1.341272</td>\n",
       "      <td>-1.312977</td>\n",
       "      <td>-1.173566</td>\n",
       "    </tr>\n",
       "  </tbody>\n",
       "</table>\n",
       "</div>"
      ],
      "text/plain": [
       "   SepalLengthCm  PetalLengthCm  PetalWidthCm  PetalArea\n",
       "0      -0.900681      -1.341272     -1.312977  -1.173566\n",
       "1      -1.143017      -1.341272     -1.312977  -1.173566\n",
       "2      -1.385353      -1.398138     -1.312977  -1.177823\n",
       "3      -1.506521      -1.284407     -1.312977  -1.169309\n",
       "4      -1.021849      -1.341272     -1.312977  -1.173566"
      ]
     },
     "execution_count": 195,
     "metadata": {},
     "output_type": "execute_result"
    }
   ],
   "source": [
    "iris_data = pd.DataFrame(iris_data, columns=cols)\n",
    "iris_data.head()"
   ]
  },
  {
   "cell_type": "markdown",
   "metadata": {},
   "source": [
    "### Model building and Evaluation"
   ]
  },
  {
   "cell_type": "code",
   "execution_count": 196,
   "metadata": {},
   "outputs": [],
   "source": [
    "from sklearn.tree import DecisionTreeClassifier\n",
    "from sklearn.model_selection import train_test_split"
   ]
  },
  {
   "cell_type": "code",
   "execution_count": 197,
   "metadata": {},
   "outputs": [],
   "source": [
    "X_train, X_test, y_train, y_test = train_test_split(iris_data, target, random_state=0, test_size=0.3)"
   ]
  },
  {
   "cell_type": "code",
   "execution_count": 198,
   "metadata": {},
   "outputs": [],
   "source": [
    "clf = DecisionTreeClassifier(criterion='entropy')"
   ]
  },
  {
   "cell_type": "code",
   "execution_count": 199,
   "metadata": {},
   "outputs": [
    {
     "data": {
      "text/html": [
       "<style>#sk-container-id-3 {color: black;background-color: white;}#sk-container-id-3 pre{padding: 0;}#sk-container-id-3 div.sk-toggleable {background-color: white;}#sk-container-id-3 label.sk-toggleable__label {cursor: pointer;display: block;width: 100%;margin-bottom: 0;padding: 0.3em;box-sizing: border-box;text-align: center;}#sk-container-id-3 label.sk-toggleable__label-arrow:before {content: \"▸\";float: left;margin-right: 0.25em;color: #696969;}#sk-container-id-3 label.sk-toggleable__label-arrow:hover:before {color: black;}#sk-container-id-3 div.sk-estimator:hover label.sk-toggleable__label-arrow:before {color: black;}#sk-container-id-3 div.sk-toggleable__content {max-height: 0;max-width: 0;overflow: hidden;text-align: left;background-color: #f0f8ff;}#sk-container-id-3 div.sk-toggleable__content pre {margin: 0.2em;color: black;border-radius: 0.25em;background-color: #f0f8ff;}#sk-container-id-3 input.sk-toggleable__control:checked~div.sk-toggleable__content {max-height: 200px;max-width: 100%;overflow: auto;}#sk-container-id-3 input.sk-toggleable__control:checked~label.sk-toggleable__label-arrow:before {content: \"▾\";}#sk-container-id-3 div.sk-estimator input.sk-toggleable__control:checked~label.sk-toggleable__label {background-color: #d4ebff;}#sk-container-id-3 div.sk-label input.sk-toggleable__control:checked~label.sk-toggleable__label {background-color: #d4ebff;}#sk-container-id-3 input.sk-hidden--visually {border: 0;clip: rect(1px 1px 1px 1px);clip: rect(1px, 1px, 1px, 1px);height: 1px;margin: -1px;overflow: hidden;padding: 0;position: absolute;width: 1px;}#sk-container-id-3 div.sk-estimator {font-family: monospace;background-color: #f0f8ff;border: 1px dotted black;border-radius: 0.25em;box-sizing: border-box;margin-bottom: 0.5em;}#sk-container-id-3 div.sk-estimator:hover {background-color: #d4ebff;}#sk-container-id-3 div.sk-parallel-item::after {content: \"\";width: 100%;border-bottom: 1px solid gray;flex-grow: 1;}#sk-container-id-3 div.sk-label:hover label.sk-toggleable__label {background-color: #d4ebff;}#sk-container-id-3 div.sk-serial::before {content: \"\";position: absolute;border-left: 1px solid gray;box-sizing: border-box;top: 0;bottom: 0;left: 50%;z-index: 0;}#sk-container-id-3 div.sk-serial {display: flex;flex-direction: column;align-items: center;background-color: white;padding-right: 0.2em;padding-left: 0.2em;position: relative;}#sk-container-id-3 div.sk-item {position: relative;z-index: 1;}#sk-container-id-3 div.sk-parallel {display: flex;align-items: stretch;justify-content: center;background-color: white;position: relative;}#sk-container-id-3 div.sk-item::before, #sk-container-id-3 div.sk-parallel-item::before {content: \"\";position: absolute;border-left: 1px solid gray;box-sizing: border-box;top: 0;bottom: 0;left: 50%;z-index: -1;}#sk-container-id-3 div.sk-parallel-item {display: flex;flex-direction: column;z-index: 1;position: relative;background-color: white;}#sk-container-id-3 div.sk-parallel-item:first-child::after {align-self: flex-end;width: 50%;}#sk-container-id-3 div.sk-parallel-item:last-child::after {align-self: flex-start;width: 50%;}#sk-container-id-3 div.sk-parallel-item:only-child::after {width: 0;}#sk-container-id-3 div.sk-dashed-wrapped {border: 1px dashed gray;margin: 0 0.4em 0.5em 0.4em;box-sizing: border-box;padding-bottom: 0.4em;background-color: white;}#sk-container-id-3 div.sk-label label {font-family: monospace;font-weight: bold;display: inline-block;line-height: 1.2em;}#sk-container-id-3 div.sk-label-container {text-align: center;}#sk-container-id-3 div.sk-container {/* jupyter's `normalize.less` sets `[hidden] { display: none; }` but bootstrap.min.css set `[hidden] { display: none !important; }` so we also need the `!important` here to be able to override the default hidden behavior on the sphinx rendered scikit-learn.org. See: https://github.com/scikit-learn/scikit-learn/issues/21755 */display: inline-block !important;position: relative;}#sk-container-id-3 div.sk-text-repr-fallback {display: none;}</style><div id=\"sk-container-id-3\" class=\"sk-top-container\"><div class=\"sk-text-repr-fallback\"><pre>DecisionTreeClassifier(criterion=&#x27;entropy&#x27;)</pre><b>In a Jupyter environment, please rerun this cell to show the HTML representation or trust the notebook. <br />On GitHub, the HTML representation is unable to render, please try loading this page with nbviewer.org.</b></div><div class=\"sk-container\" hidden><div class=\"sk-item\"><div class=\"sk-estimator sk-toggleable\"><input class=\"sk-toggleable__control sk-hidden--visually\" id=\"sk-estimator-id-3\" type=\"checkbox\" checked><label for=\"sk-estimator-id-3\" class=\"sk-toggleable__label sk-toggleable__label-arrow\">DecisionTreeClassifier</label><div class=\"sk-toggleable__content\"><pre>DecisionTreeClassifier(criterion=&#x27;entropy&#x27;)</pre></div></div></div></div></div>"
      ],
      "text/plain": [
       "DecisionTreeClassifier(criterion='entropy')"
      ]
     },
     "execution_count": 199,
     "metadata": {},
     "output_type": "execute_result"
    }
   ],
   "source": [
    "clf.fit(X_train, y_train)"
   ]
  },
  {
   "cell_type": "code",
   "execution_count": 200,
   "metadata": {},
   "outputs": [],
   "source": [
    "y_predict = clf.predict(X_test)"
   ]
  },
  {
   "cell_type": "code",
   "execution_count": 201,
   "metadata": {},
   "outputs": [
    {
     "name": "stdout",
     "output_type": "stream",
     "text": [
      "Accuracy score on train data:  1.0\n",
      "Accuracy score on test data:  0.9555555555555556\n"
     ]
    }
   ],
   "source": [
    "from sklearn.metrics import accuracy_score\n",
    "print('Accuracy score on train data: ', accuracy_score(y_true=y_train, y_pred=clf.predict(X_train)))\n",
    "print('Accuracy score on test data: ', accuracy_score(y_true=y_test, y_pred=y_predict))"
   ]
  },
  {
   "cell_type": "markdown",
   "metadata": {},
   "source": [
    "- currently our model's accuracy is 95.5% which is good!\n",
    "- but this only for one random state i.e 0\n",
    "- so, let's find the best random state which gives the highest accuracy!\n",
    "- for this I'll write a python function.\n",
    "- let's dive into the code!"
   ]
  },
  {
   "cell_type": "code",
   "execution_count": 202,
   "metadata": {},
   "outputs": [],
   "source": [
    "def score_as_per_rand_state(data, target, random_state, test_size):\n",
    "    X_train, X_test, y_train, y_test = train_test_split(\n",
    "        data, target, random_state=random_state, test_size=test_size)\n",
    "    clf = DecisionTreeClassifier(criterion='entropy')\n",
    "    clf.fit(X_train, y_train)\n",
    "    y_predict = clf.predict(X_test)\n",
    "    return accuracy_score(y_true=y_test, y_pred=y_predict)\n"
   ]
  },
  {
   "cell_type": "code",
   "execution_count": 203,
   "metadata": {},
   "outputs": [
    {
     "name": "stdout",
     "output_type": "stream",
     "text": [
      "{15: 1.0, 17: 1.0, 40: 1.0, 57: 1.0, 74: 1.0}\n"
     ]
    }
   ],
   "source": [
    "random_states = [i for i in range(0, 101)]\n",
    "scores = {}\n",
    "for random_state in random_states:\n",
    "    scores[random_state] = score_as_per_rand_state(\n",
    "        iris_data, target, random_state, test_size=0.3)\n",
    "best_score = max(scores.values())\n",
    "required_rand_state_score = {\n",
    "    random_state:score for random_state, score in scores.items() if score == best_score}\n",
    "print(required_rand_state_score)\n"
   ]
  },
  {
   "cell_type": "markdown",
   "metadata": {},
   "source": [
    "- The above code prints a dictionary containing random_states as the key and value as the best_score\n",
    "- So, the best random_state is ***15*** giving a score 100% !"
   ]
  },
  {
   "cell_type": "markdown",
   "metadata": {},
   "source": [
    "- ***Final Model building and Evaluation***:"
   ]
  },
  {
   "cell_type": "markdown",
   "metadata": {},
   "source": [
    "1. Split the dataset"
   ]
  },
  {
   "cell_type": "code",
   "execution_count": 204,
   "metadata": {},
   "outputs": [],
   "source": [
    "X_train, X_test, y_train, y_test = train_test_split(iris_data, target, random_state=15, test_size=0.3)"
   ]
  },
  {
   "cell_type": "markdown",
   "metadata": {},
   "source": [
    "2. Select the model: Decision tree classifier;\n",
    "    - algorithm: Decision tree"
   ]
  },
  {
   "cell_type": "code",
   "execution_count": 205,
   "metadata": {},
   "outputs": [],
   "source": [
    "clf = DecisionTreeClassifier(criterion='entropy')"
   ]
  },
  {
   "cell_type": "markdown",
   "metadata": {},
   "source": [
    "3. Fit the training set"
   ]
  },
  {
   "cell_type": "code",
   "execution_count": 206,
   "metadata": {},
   "outputs": [
    {
     "data": {
      "text/html": [
       "<style>#sk-container-id-4 {color: black;background-color: white;}#sk-container-id-4 pre{padding: 0;}#sk-container-id-4 div.sk-toggleable {background-color: white;}#sk-container-id-4 label.sk-toggleable__label {cursor: pointer;display: block;width: 100%;margin-bottom: 0;padding: 0.3em;box-sizing: border-box;text-align: center;}#sk-container-id-4 label.sk-toggleable__label-arrow:before {content: \"▸\";float: left;margin-right: 0.25em;color: #696969;}#sk-container-id-4 label.sk-toggleable__label-arrow:hover:before {color: black;}#sk-container-id-4 div.sk-estimator:hover label.sk-toggleable__label-arrow:before {color: black;}#sk-container-id-4 div.sk-toggleable__content {max-height: 0;max-width: 0;overflow: hidden;text-align: left;background-color: #f0f8ff;}#sk-container-id-4 div.sk-toggleable__content pre {margin: 0.2em;color: black;border-radius: 0.25em;background-color: #f0f8ff;}#sk-container-id-4 input.sk-toggleable__control:checked~div.sk-toggleable__content {max-height: 200px;max-width: 100%;overflow: auto;}#sk-container-id-4 input.sk-toggleable__control:checked~label.sk-toggleable__label-arrow:before {content: \"▾\";}#sk-container-id-4 div.sk-estimator input.sk-toggleable__control:checked~label.sk-toggleable__label {background-color: #d4ebff;}#sk-container-id-4 div.sk-label input.sk-toggleable__control:checked~label.sk-toggleable__label {background-color: #d4ebff;}#sk-container-id-4 input.sk-hidden--visually {border: 0;clip: rect(1px 1px 1px 1px);clip: rect(1px, 1px, 1px, 1px);height: 1px;margin: -1px;overflow: hidden;padding: 0;position: absolute;width: 1px;}#sk-container-id-4 div.sk-estimator {font-family: monospace;background-color: #f0f8ff;border: 1px dotted black;border-radius: 0.25em;box-sizing: border-box;margin-bottom: 0.5em;}#sk-container-id-4 div.sk-estimator:hover {background-color: #d4ebff;}#sk-container-id-4 div.sk-parallel-item::after {content: \"\";width: 100%;border-bottom: 1px solid gray;flex-grow: 1;}#sk-container-id-4 div.sk-label:hover label.sk-toggleable__label {background-color: #d4ebff;}#sk-container-id-4 div.sk-serial::before {content: \"\";position: absolute;border-left: 1px solid gray;box-sizing: border-box;top: 0;bottom: 0;left: 50%;z-index: 0;}#sk-container-id-4 div.sk-serial {display: flex;flex-direction: column;align-items: center;background-color: white;padding-right: 0.2em;padding-left: 0.2em;position: relative;}#sk-container-id-4 div.sk-item {position: relative;z-index: 1;}#sk-container-id-4 div.sk-parallel {display: flex;align-items: stretch;justify-content: center;background-color: white;position: relative;}#sk-container-id-4 div.sk-item::before, #sk-container-id-4 div.sk-parallel-item::before {content: \"\";position: absolute;border-left: 1px solid gray;box-sizing: border-box;top: 0;bottom: 0;left: 50%;z-index: -1;}#sk-container-id-4 div.sk-parallel-item {display: flex;flex-direction: column;z-index: 1;position: relative;background-color: white;}#sk-container-id-4 div.sk-parallel-item:first-child::after {align-self: flex-end;width: 50%;}#sk-container-id-4 div.sk-parallel-item:last-child::after {align-self: flex-start;width: 50%;}#sk-container-id-4 div.sk-parallel-item:only-child::after {width: 0;}#sk-container-id-4 div.sk-dashed-wrapped {border: 1px dashed gray;margin: 0 0.4em 0.5em 0.4em;box-sizing: border-box;padding-bottom: 0.4em;background-color: white;}#sk-container-id-4 div.sk-label label {font-family: monospace;font-weight: bold;display: inline-block;line-height: 1.2em;}#sk-container-id-4 div.sk-label-container {text-align: center;}#sk-container-id-4 div.sk-container {/* jupyter's `normalize.less` sets `[hidden] { display: none; }` but bootstrap.min.css set `[hidden] { display: none !important; }` so we also need the `!important` here to be able to override the default hidden behavior on the sphinx rendered scikit-learn.org. See: https://github.com/scikit-learn/scikit-learn/issues/21755 */display: inline-block !important;position: relative;}#sk-container-id-4 div.sk-text-repr-fallback {display: none;}</style><div id=\"sk-container-id-4\" class=\"sk-top-container\"><div class=\"sk-text-repr-fallback\"><pre>DecisionTreeClassifier(criterion=&#x27;entropy&#x27;)</pre><b>In a Jupyter environment, please rerun this cell to show the HTML representation or trust the notebook. <br />On GitHub, the HTML representation is unable to render, please try loading this page with nbviewer.org.</b></div><div class=\"sk-container\" hidden><div class=\"sk-item\"><div class=\"sk-estimator sk-toggleable\"><input class=\"sk-toggleable__control sk-hidden--visually\" id=\"sk-estimator-id-4\" type=\"checkbox\" checked><label for=\"sk-estimator-id-4\" class=\"sk-toggleable__label sk-toggleable__label-arrow\">DecisionTreeClassifier</label><div class=\"sk-toggleable__content\"><pre>DecisionTreeClassifier(criterion=&#x27;entropy&#x27;)</pre></div></div></div></div></div>"
      ],
      "text/plain": [
       "DecisionTreeClassifier(criterion='entropy')"
      ]
     },
     "execution_count": 206,
     "metadata": {},
     "output_type": "execute_result"
    }
   ],
   "source": [
    "clf.fit(X_train, y_train)"
   ]
  },
  {
   "cell_type": "markdown",
   "metadata": {},
   "source": [
    "4. Predict the output from your trained model"
   ]
  },
  {
   "cell_type": "code",
   "execution_count": 207,
   "metadata": {},
   "outputs": [],
   "source": [
    "y_predict = clf.predict(X_test)"
   ]
  },
  {
   "cell_type": "markdown",
   "metadata": {},
   "source": [
    "5. Print the accuracy score on train and test data"
   ]
  },
  {
   "cell_type": "code",
   "execution_count": 208,
   "metadata": {},
   "outputs": [
    {
     "name": "stdout",
     "output_type": "stream",
     "text": [
      "Accuracy score on train data:  1.0\n",
      "Accuracy score on test data:  1.0\n"
     ]
    }
   ],
   "source": [
    "print('Accuracy score on train data: ', accuracy_score(y_true=y_train, y_pred=clf.predict(X_train)))\n",
    "print('Accuracy score on test data: ', accuracy_score(y_true=y_test, y_pred=y_predict))"
   ]
  },
  {
   "cell_type": "markdown",
   "metadata": {},
   "source": [
    "### Final Result:\n",
    "**Model's accuracy: 100%**"
   ]
  },
  {
   "cell_type": "markdown",
   "metadata": {},
   "source": [
    "- All but **Species** features is *object* type. Rest are *float64* type.\n",
    "- Which is kind of obvious, because *Species* is a target variable agianst which our predictions will be compared.\n",
    "- Rest are *float64* type, this makes our *preprocessing* easier as we don't have to take care of the data type conversion."
   ]
  },
  {
   "cell_type": "markdown",
   "metadata": {},
   "source": [
    "##### Categorizing values in the dataset:\n",
    "    1. Categorical: finite set number of values\n",
    "    2. Continuous: infinite number of values\n",
    "    3. Discrete: finite number of values that must be numeric\n",
    "- we need to make a list seperating features of our dataset on the basis of above 3 points."
   ]
  },
  {
   "cell_type": "markdown",
   "metadata": {},
   "source": [
    "- check the unique values of each feature:\n",
    "    - if we miss any misformatted value.\n",
    "    - to identify which type these feature belong amongst the above 3."
   ]
  },
  {
   "cell_type": "code",
   "execution_count": 6,
   "metadata": {},
   "outputs": [],
   "source": [
    "def find_unique(col,data):\n",
    "    print('{}:{}'.format(col,data[col].unique()))"
   ]
  },
  {
   "cell_type": "code",
   "execution_count": 7,
   "metadata": {},
   "outputs": [
    {
     "name": "stdout",
     "output_type": "stream",
     "text": [
      "SepalLengthCm:[5.1 4.9 4.7 4.6 5.  5.4 4.4 4.8 4.3 5.8 5.7 5.2 5.5 4.5 5.3 7.  6.4 6.9\n",
      " 6.5 6.3 6.6 5.9 6.  6.1 5.6 6.7 6.2 6.8 7.1 7.6 7.3 7.2 7.7 7.4 7.9]\n",
      "SepalWidthCm:[3.5 3.  3.2 3.1 3.6 3.9 3.4 2.9 3.7 4.  4.4 3.8 3.3 4.1 4.2 2.3 2.8 2.4\n",
      " 2.7 2.  2.2 2.5 2.6]\n",
      "PetalLengthCm:[1.4 1.3 1.5 1.7 1.6 1.1 1.2 1.  1.9 4.7 4.5 4.9 4.  4.6 3.3 3.9 3.5 4.2\n",
      " 3.6 4.4 4.1 4.8 4.3 5.  3.8 3.7 5.1 3.  6.  5.9 5.6 5.8 6.6 6.3 6.1 5.3\n",
      " 5.5 6.7 6.9 5.7 6.4 5.4 5.2]\n",
      "PetalWidthCm:[0.2 0.4 0.3 0.1 0.5 0.6 1.4 1.5 1.3 1.6 1.  1.1 1.8 1.2 1.7 2.5 1.9 2.1\n",
      " 2.2 2.  2.4 2.3]\n",
      "Species:['Iris-setosa' 'Iris-versicolor' 'Iris-virginica']\n"
     ]
    }
   ],
   "source": [
    "for col in iris_data.columns:\n",
    "    find_unique(col,iris_data)"
   ]
  },
  {
   "cell_type": "markdown",
   "metadata": {},
   "source": [
    "- So, all but *Species* feature is categorical, and rest are continuous.\n",
    "- Also since the features(except *Species*) are *float64* type, and all of these are continuous, without any misformatted value, we won't be needing much of *data prerocessing*."
   ]
  },
  {
   "cell_type": "markdown",
   "metadata": {},
   "source": [
    "- Check for null/missing values"
   ]
  },
  {
   "cell_type": "code",
   "execution_count": 8,
   "metadata": {},
   "outputs": [
    {
     "data": {
      "text/plain": [
       "SepalLengthCm    0\n",
       "SepalWidthCm     0\n",
       "PetalLengthCm    0\n",
       "PetalWidthCm     0\n",
       "Species          0\n",
       "dtype: int64"
      ]
     },
     "execution_count": 8,
     "metadata": {},
     "output_type": "execute_result"
    }
   ],
   "source": [
    "iris_data.isnull().sum()"
   ]
  },
  {
   "cell_type": "markdown",
   "metadata": {},
   "source": [
    "- Visualize the missing values"
   ]
  },
  {
   "cell_type": "code",
   "execution_count": 9,
   "metadata": {},
   "outputs": [
    {
     "data": {
      "text/plain": [
       "<AxesSubplot:ylabel='Id'>"
      ]
     },
     "execution_count": 9,
     "metadata": {},
     "output_type": "execute_result"
    },
    {
     "data": {
      "image/png": "[encoded data removed]",
      "text/plain": [
       "<Figure size 432x288 with 1 Axes>"
      ]
     },
     "metadata": {
      "needs_background": "light"
     },
     "output_type": "display_data"
    }
   ],
   "source": [
    "sns.heatmap(iris_data.isnull(), cbar=False, cmap='viridis')"
   ]
  },
  {
   "cell_type": "markdown",
   "metadata": {},
   "source": [
    "- No null values in the data set\n",
    "- So, no imputation required."
   ]
  },
  {
   "cell_type": "markdown",
   "metadata": {},
   "source": [
    "- Now, lets explore the data.\n",
    "- Let's look at the relationships between the **target** and between other variables as well.\n",
    "- Setting the target variable in the below cell."
   ]
  },
  {
   "cell_type": "code",
   "execution_count": 27,
   "metadata": {},
   "outputs": [
    {
     "data": {
      "text/html": [
       "<div>\n",
       "<style scoped>\n",
       "    .dataframe tbody tr th:only-of-type {\n",
       "        vertical-align: middle;\n",
       "    }\n",
       "\n",
       "    .dataframe tbody tr th {\n",
       "        vertical-align: top;\n",
       "    }\n",
       "\n",
       "    .dataframe thead th {\n",
       "        text-align: right;\n",
       "    }\n",
       "</style>\n",
       "<table border=\"1\" class=\"dataframe\">\n",
       "  <thead>\n",
       "    <tr style=\"text-align: right;\">\n",
       "      <th></th>\n",
       "      <th>SepalLengthCm</th>\n",
       "      <th>SepalWidthCm</th>\n",
       "      <th>PetalLengthCm</th>\n",
       "      <th>PetalWidthCm</th>\n",
       "    </tr>\n",
       "    <tr>\n",
       "      <th>Id</th>\n",
       "      <th></th>\n",
       "      <th></th>\n",
       "      <th></th>\n",
       "      <th></th>\n",
       "    </tr>\n",
       "  </thead>\n",
       "  <tbody>\n",
       "    <tr>\n",
       "      <th>1</th>\n",
       "      <td>5.1</td>\n",
       "      <td>3.5</td>\n",
       "      <td>1.4</td>\n",
       "      <td>0.2</td>\n",
       "    </tr>\n",
       "    <tr>\n",
       "      <th>2</th>\n",
       "      <td>4.9</td>\n",
       "      <td>3.0</td>\n",
       "      <td>1.4</td>\n",
       "      <td>0.2</td>\n",
       "    </tr>\n",
       "    <tr>\n",
       "      <th>3</th>\n",
       "      <td>4.7</td>\n",
       "      <td>3.2</td>\n",
       "      <td>1.3</td>\n",
       "      <td>0.2</td>\n",
       "    </tr>\n",
       "    <tr>\n",
       "      <th>4</th>\n",
       "      <td>4.6</td>\n",
       "      <td>3.1</td>\n",
       "      <td>1.5</td>\n",
       "      <td>0.2</td>\n",
       "    </tr>\n",
       "    <tr>\n",
       "      <th>5</th>\n",
       "      <td>5.0</td>\n",
       "      <td>3.6</td>\n",
       "      <td>1.4</td>\n",
       "      <td>0.2</td>\n",
       "    </tr>\n",
       "  </tbody>\n",
       "</table>\n",
       "</div>"
      ],
      "text/plain": [
       "    SepalLengthCm  SepalWidthCm  PetalLengthCm  PetalWidthCm\n",
       "Id                                                          \n",
       "1             5.1           3.5            1.4           0.2\n",
       "2             4.9           3.0            1.4           0.2\n",
       "3             4.7           3.2            1.3           0.2\n",
       "4             4.6           3.1            1.5           0.2\n",
       "5             5.0           3.6            1.4           0.2"
      ]
     },
     "execution_count": 27,
     "metadata": {},
     "output_type": "execute_result"
    }
   ],
   "source": [
    "target = iris_data['Species']\n",
    "X = iris_data.drop('Species', axis=1)\n",
    "X.head()"
   ]
  },
  {
   "cell_type": "markdown",
   "metadata": {},
   "source": [
    "1. relationship between **SepalLengthCm** and **target** using histplot"
   ]
  },
  {
   "cell_type": "code",
   "execution_count": 11,
   "metadata": {},
   "outputs": [
    {
     "data": {
      "text/plain": [
       "<AxesSubplot:xlabel='SepalLengthCm', ylabel='Species'>"
      ]
     },
     "execution_count": 11,
     "metadata": {},
     "output_type": "execute_result"
    },
    {
     "data": {
      "image/png": "[encoded data removed]",
      "text/plain": [
       "<Figure size 432x288 with 1 Axes>"
      ]
     },
     "metadata": {
      "needs_background": "light"
     },
     "output_type": "display_data"
    }
   ],
   "source": [
    "sns.histplot(x=iris_data['SepalLengthCm'], y=target)"
   ]
  },
  {
   "cell_type": "markdown",
   "metadata": {},
   "source": [
    "- it can be seen from the above plot that *Iris-setosa* is almost classifiable while the rest form an overlapping perspective, when **SepalLengthCm >= 5.5**"
   ]
  },
  {
   "cell_type": "markdown",
   "metadata": {},
   "source": [
    "2. Relationship between *SepalWidthCm* and *target* variable: using histplot "
   ]
  },
  {
   "cell_type": "code",
   "execution_count": 12,
   "metadata": {},
   "outputs": [
    {
     "data": {
      "text/plain": [
       "<AxesSubplot:xlabel='SepalWidthCm', ylabel='Species'>"
      ]
     },
     "execution_count": 12,
     "metadata": {},
     "output_type": "execute_result"
    },
    {
     "data": {
      "image/png": "[encoded data removed]",
      "text/plain": [
       "<Figure size 432x288 with 1 Axes>"
      ]
     },
     "metadata": {
      "needs_background": "light"
     },
     "output_type": "display_data"
    }
   ],
   "source": [
    "sns.histplot(x=iris_data['SepalWidthCm'], y=target)"
   ]
  },
  {
   "cell_type": "markdown",
   "metadata": {},
   "source": [
    "- the above plot generates a fuzzy relationship between Species and SepalWidthCm.\n",
    "- So, this feature may not effect the accuracy of our model much.\n",
    "- this is because most of the classified region(of all the species) lies in the range of:\n",
    "\n",
    "    *SepalWidthCm >= 2.7 and SepalWidthCm <= 3.5*"
   ]
  },
  {
   "cell_type": "markdown",
   "metadata": {},
   "source": [
    "3. Relationship between *SepalLengthCm*/*SepalWidthCm* and target vairable: using swarmplot\n",
    "    - because from the above dataset it's clear that most of the points overlapp incase of SepalWidthCm, and easily classifiable incase of SepalLengthCm.\n",
    "    - So, from the plot below, we can infer that above the value of 1.75 *Iris-setosa* is most not present, hence easily classifiable at this margin."
   ]
  },
  {
   "cell_type": "code",
   "execution_count": 24,
   "metadata": {},
   "outputs": [
    {
     "data": {
      "text/plain": [
       "<AxesSubplot:ylabel='Species'>"
      ]
     },
     "execution_count": 24,
     "metadata": {},
     "output_type": "execute_result"
    },
    {
     "data": {
      "image/png": "[encoded data removed]",
      "text/plain": [
       "<Figure size 432x288 with 1 Axes>"
      ]
     },
     "metadata": {
      "needs_background": "light"
     },
     "output_type": "display_data"
    }
   ],
   "source": [
    "sns.swarmplot(x=iris_data['SepalLengthCm']/iris_data['SepalWidthCm'], y=target)"
   ]
  },
  {
   "cell_type": "markdown",
   "metadata": {},
   "source": [
    "- **Conclusion from the above plot**:\n",
    "    - The division of the above two features led us to a ***new*** feature!\n",
    "    - This feature can be used for classification.\n",
    "    - Thus, is an imporant feature."
   ]
  },
  {
   "cell_type": "markdown",
   "metadata": {},
   "source": [
    "4. Relationship between *PetalLengthCm* and *target*"
   ]
  },
  {
   "cell_type": "code",
   "execution_count": 17,
   "metadata": {},
   "outputs": [
    {
     "data": {
      "text/plain": [
       "<AxesSubplot:xlabel='PetalLengthCm', ylabel='Species'>"
      ]
     },
     "execution_count": 17,
     "metadata": {},
     "output_type": "execute_result"
    },
    {
     "data": {
      "image/png": "[encoded data removed]",
      "text/plain": [
       "<Figure size 720x432 with 1 Axes>"
      ]
     },
     "metadata": {
      "needs_background": "light"
     },
     "output_type": "display_data"
    }
   ],
   "source": [
    "plt.figure(figsize=(10,6))\n",
    "sns.swarmplot(data=iris_data, x='PetalLengthCm', y=target)"
   ]
  },
  {
   "cell_type": "markdown",
   "metadata": {},
   "source": [
    "- from the above swarmplot we can see that *Iris-setosa* is easily classifiable when the *PetalLengthCm* is in (0.5, 2).\n",
    "- Also, in the range (3, 4.8) *Iris-versicolor* can be indentified, and in the range (4.8, 7) *Iris-virginica* can be indentified.\n",
    "- So, the *PetalLengthCm* can be an **important** feature in our model."
   ]
  },
  {
   "cell_type": "markdown",
   "metadata": {},
   "source": [
    "5. Relationship between *PetalWidthCm* and *target* variable: using swarmplot"
   ]
  },
  {
   "cell_type": "code",
   "execution_count": 18,
   "metadata": {},
   "outputs": [
    {
     "data": {
      "text/plain": [
       "<AxesSubplot:xlabel='PetalWidthCm', ylabel='Species'>"
      ]
     },
     "execution_count": 18,
     "metadata": {},
     "output_type": "execute_result"
    },
    {
     "data": {
      "image/png": "[encoded data removed]",
      "text/plain": [
       "<Figure size 432x288 with 1 Axes>"
      ]
     },
     "metadata": {
      "needs_background": "light"
     },
     "output_type": "display_data"
    }
   ],
   "source": [
    "sns.stripplot(x=iris_data['PetalWidthCm'], y=target)"
   ]
  },
  {
   "cell_type": "markdown",
   "metadata": {},
   "source": [
    "- again the plot can be easily classified for *Iris-setosa* but not clear for the rest species.\n",
    "- in the below I've taken the petal_area(almost) to see it's variation with the target variable, let's see what I get."
   ]
  },
  {
   "cell_type": "code",
   "execution_count": 19,
   "metadata": {},
   "outputs": [
    {
     "data": {
      "text/plain": [
       "<AxesSubplot:ylabel='Species'>"
      ]
     },
     "execution_count": 19,
     "metadata": {},
     "output_type": "execute_result"
    },
    {
     "data": {
      "image/png": "[encoded data removed]",
      "text/plain": [
       "<Figure size 432x288 with 1 Axes>"
      ]
     },
     "metadata": {
      "needs_background": "light"
     },
     "output_type": "display_data"
    }
   ],
   "source": [
    "sns.stripplot(x=iris_data['PetalWidthCm']*iris_data['PetalLengthCm'], y=target)"
   ]
  },
  {
   "cell_type": "markdown",
   "metadata": {},
   "source": [
    "- Now the plot can be used to easily classify between almost all the three species.\n",
    "- for *Iris-setosa* the petal_area is in range (0, 1)\n",
    "- for *Iris-versicolor* the petal_area is in range (3, 8.5)\n",
    "- for *Iris-virginica* the petal_area is in range (7.5, 16)\n",
    "SO, there is really a small portion in the intersection of the above two species i.e: *Iris-versicolor* and *Iris-virginica*, which actually favours our analysis!"
   ]
  },
  {
   "cell_type": "markdown",
   "metadata": {},
   "source": [
    "- **Conclusion from the above plot**:\n",
    "    - We can design a new feature named: **PetalArea**, which can play an important role towards a good model."
   ]
  },
  {
   "cell_type": "markdown",
   "metadata": {},
   "source": [
    "### Feature Engineering"
   ]
  },
  {
   "cell_type": "markdown",
   "metadata": {},
   "source": [
    "#### 1. Feature selection\n",
    "- From the EDA I observed that all the *input* variables are *continuous*.\n",
    "- And that the *target* variable is *categorical*.\n",
    "- Which means that the best suitable method for feature selection is **ANOVA** or *Analysis Of VAriance*. "
   ]
  },
  {
   "cell_type": "code",
   "execution_count": 29,
   "metadata": {},
   "outputs": [
    {
     "data": {
      "text/html": [
       "<div>\n",
       "<style scoped>\n",
       "    .dataframe tbody tr th:only-of-type {\n",
       "        vertical-align: middle;\n",
       "    }\n",
       "\n",
       "    .dataframe tbody tr th {\n",
       "        vertical-align: top;\n",
       "    }\n",
       "\n",
       "    .dataframe thead th {\n",
       "        text-align: right;\n",
       "    }\n",
       "</style>\n",
       "<table border=\"1\" class=\"dataframe\">\n",
       "  <thead>\n",
       "    <tr style=\"text-align: right;\">\n",
       "      <th></th>\n",
       "      <th>feat</th>\n",
       "      <th>Score</th>\n",
       "    </tr>\n",
       "  </thead>\n",
       "  <tbody>\n",
       "    <tr>\n",
       "      <th>0</th>\n",
       "      <td>SepalLengthCm</td>\n",
       "      <td>119.264502</td>\n",
       "    </tr>\n",
       "    <tr>\n",
       "      <th>1</th>\n",
       "      <td>SepalWidthCm</td>\n",
       "      <td>47.364461</td>\n",
       "    </tr>\n",
       "    <tr>\n",
       "      <th>2</th>\n",
       "      <td>PetalLengthCm</td>\n",
       "      <td>1179.034328</td>\n",
       "    </tr>\n",
       "    <tr>\n",
       "      <th>3</th>\n",
       "      <td>PetalWidthCm</td>\n",
       "      <td>959.324406</td>\n",
       "    </tr>\n",
       "  </tbody>\n",
       "</table>\n",
       "</div>"
      ],
      "text/plain": [
       "            feat        Score\n",
       "0  SepalLengthCm   119.264502\n",
       "1   SepalWidthCm    47.364461\n",
       "2  PetalLengthCm  1179.034328\n",
       "3   PetalWidthCm   959.324406"
      ]
     },
     "execution_count": 29,
     "metadata": {},
     "output_type": "execute_result"
    }
   ],
   "source": [
    "from sklearn.feature_selection import SelectKBest\n",
    "from sklearn.feature_selection import f_classif\n",
    "\n",
    "best_feat = SelectKBest(f_classif, k=3)\n",
    "fit = best_feat.fit(iris_data.drop('Species', axis=1),iris_data['Species'])\n",
    "f_scores = pd.DataFrame(fit.scores_)\n",
    "f_cols = pd.DataFrame(X.columns)\n",
    "featureScores = pd.concat([f_cols,f_scores], axis=1)\n",
    "featureScores.columns = ['feat', 'Score']\n",
    "featureScores"
   ]
  },
  {
   "cell_type": "markdown",
   "metadata": {},
   "source": [
    "- from the above table the highest value is only possessed by:\n",
    "    - *SepalLengthCm*\n",
    "    - *PetalLengthCm*\n",
    "    - *PetalWidthCm*\n",
    "- so, these features are actually more related to the dependent feature.\n",
    "- And I'll consider only these 3 for my model, untill **Binning**"
   ]
  },
  {
   "cell_type": "markdown",
   "metadata": {},
   "source": [
    "- **Dropping the SepalWidthCm feature**"
   ]
  },
  {
   "cell_type": "code",
   "execution_count": 34,
   "metadata": {},
   "outputs": [
    {
     "data": {
      "text/html": [
       "<div>\n",
       "<style scoped>\n",
       "    .dataframe tbody tr th:only-of-type {\n",
       "        vertical-align: middle;\n",
       "    }\n",
       "\n",
       "    .dataframe tbody tr th {\n",
       "        vertical-align: top;\n",
       "    }\n",
       "\n",
       "    .dataframe thead th {\n",
       "        text-align: right;\n",
       "    }\n",
       "</style>\n",
       "<table border=\"1\" class=\"dataframe\">\n",
       "  <thead>\n",
       "    <tr style=\"text-align: right;\">\n",
       "      <th></th>\n",
       "      <th>SepalLengthCm</th>\n",
       "      <th>PetalLengthCm</th>\n",
       "      <th>PetalWidthCm</th>\n",
       "      <th>Species</th>\n",
       "    </tr>\n",
       "    <tr>\n",
       "      <th>Id</th>\n",
       "      <th></th>\n",
       "      <th></th>\n",
       "      <th></th>\n",
       "      <th></th>\n",
       "    </tr>\n",
       "  </thead>\n",
       "  <tbody>\n",
       "    <tr>\n",
       "      <th>1</th>\n",
       "      <td>5.1</td>\n",
       "      <td>1.4</td>\n",
       "      <td>0.2</td>\n",
       "      <td>Iris-setosa</td>\n",
       "    </tr>\n",
       "    <tr>\n",
       "      <th>2</th>\n",
       "      <td>4.9</td>\n",
       "      <td>1.4</td>\n",
       "      <td>0.2</td>\n",
       "      <td>Iris-setosa</td>\n",
       "    </tr>\n",
       "    <tr>\n",
       "      <th>3</th>\n",
       "      <td>4.7</td>\n",
       "      <td>1.3</td>\n",
       "      <td>0.2</td>\n",
       "      <td>Iris-setosa</td>\n",
       "    </tr>\n",
       "    <tr>\n",
       "      <th>4</th>\n",
       "      <td>4.6</td>\n",
       "      <td>1.5</td>\n",
       "      <td>0.2</td>\n",
       "      <td>Iris-setosa</td>\n",
       "    </tr>\n",
       "    <tr>\n",
       "      <th>5</th>\n",
       "      <td>5.0</td>\n",
       "      <td>1.4</td>\n",
       "      <td>0.2</td>\n",
       "      <td>Iris-setosa</td>\n",
       "    </tr>\n",
       "  </tbody>\n",
       "</table>\n",
       "</div>"
      ],
      "text/plain": [
       "    SepalLengthCm  PetalLengthCm  PetalWidthCm      Species\n",
       "Id                                                         \n",
       "1             5.1            1.4           0.2  Iris-setosa\n",
       "2             4.9            1.4           0.2  Iris-setosa\n",
       "3             4.7            1.3           0.2  Iris-setosa\n",
       "4             4.6            1.5           0.2  Iris-setosa\n",
       "5             5.0            1.4           0.2  Iris-setosa"
      ]
     },
     "execution_count": 34,
     "metadata": {},
     "output_type": "execute_result"
    }
   ],
   "source": [
    "iris_data.drop('SepalWidthCm', axis=1, inplace=True)\n",
    "iris_data.head()"
   ]
  },
  {
   "cell_type": "markdown",
   "metadata": {},
   "source": [
    "#### 2. Imbalanced dataset\n",
    "- There is also a chance of a imbalanced dataset.\n",
    "- is **iris_data** imbalanced?\n",
    "- let's find out!"
   ]
  },
  {
   "cell_type": "code",
   "execution_count": 49,
   "metadata": {},
   "outputs": [],
   "source": [
    "target_list = list(target)\n",
    "types = {'Iris-setosa':0, 'Iris-versicolor':0, 'Iris-virginica':0}\n"
   ]
  },
  {
   "cell_type": "code",
   "execution_count": 52,
   "metadata": {},
   "outputs": [],
   "source": [
    "def count_target(targetList, types):\n",
    "    for val in targetList:\n",
    "        types[val] += 1\n",
    "        "
   ]
  },
  {
   "cell_type": "code",
   "execution_count": 53,
   "metadata": {},
   "outputs": [
    {
     "name": "stdout",
     "output_type": "stream",
     "text": [
      "{'Iris-setosa': 50, 'Iris-versicolor': 50, 'Iris-virginica': 50}\n"
     ]
    }
   ],
   "source": [
    "print(types)"
   ]
  },
  {
   "cell_type": "markdown",
   "metadata": {},
   "source": [
    "- All the three categories of the **target** variable are balanced, because they have equal count in the dataset.\n",
    "- So, we don't need to worry about the imbalanced dataset!"
   ]
  },
  {
   "cell_type": "markdown",
   "metadata": {},
   "source": [
    "#### 3. Handle the outliers "
   ]
  },
  {
   "cell_type": "markdown",
   "metadata": {},
   "source": [
    "- Studying the outliers with the help of distributions.\n",
    "- Using the **kde plot**"
   ]
  },
  {
   "cell_type": "code",
   "execution_count": 60,
   "metadata": {},
   "outputs": [
    {
     "data": {
      "text/plain": [
       "<AxesSubplot:xlabel='SepalLengthCm', ylabel='Density'>"
      ]
     },
     "execution_count": 60,
     "metadata": {},
     "output_type": "execute_result"
    },
    {
     "data": {
      "image/png": "[encoded data removed]",
      "text/plain": [
       "<Figure size 432x288 with 1 Axes>"
      ]
     },
     "metadata": {
      "needs_background": "light"
     },
     "output_type": "display_data"
    }
   ],
   "source": [
    "sns.kdeplot(data=iris_data['SepalLengthCm'], shade=True)"
   ]
  },
  {
   "cell_type": "markdown",
   "metadata": {},
   "source": [
    "- the above plot shows that **SepalLengthCm** is almost normally skewed.\n",
    "- which indicates that there are not outliers in **SepalLengthCm**."
   ]
  },
  {
   "cell_type": "code",
   "execution_count": 58,
   "metadata": {},
   "outputs": [
    {
     "data": {
      "text/plain": [
       "<AxesSubplot:xlabel='PetalLengthCm', ylabel='Density'>"
      ]
     },
     "execution_count": 58,
     "metadata": {},
     "output_type": "execute_result"
    },
    {
     "data": {
      "image/png": "[encoded data removed]",
      "text/plain": [
       "<Figure size 432x288 with 1 Axes>"
      ]
     },
     "metadata": {
      "needs_background": "light"
     },
     "output_type": "display_data"
    }
   ],
   "source": [
    "sns.kdeplot(data=iris_data['PetalLengthCm'], shade=True)"
   ]
  },
  {
   "cell_type": "markdown",
   "metadata": {},
   "source": [
    "- again, the above plot does not contain out liers, because we cannot see any positive or negative skewness."
   ]
  },
  {
   "cell_type": "code",
   "execution_count": 59,
   "metadata": {},
   "outputs": [
    {
     "data": {
      "text/plain": [
       "<AxesSubplot:xlabel='PetalWidthCm', ylabel='Density'>"
      ]
     },
     "execution_count": 59,
     "metadata": {},
     "output_type": "execute_result"
    },
    {
     "data": {
      "image/png": "[encoded data removed]",
      "text/plain": [
       "<Figure size 432x288 with 1 Axes>"
      ]
     },
     "metadata": {
      "needs_background": "light"
     },
     "output_type": "display_data"
    }
   ],
   "source": [
    "sns.kdeplot(data=iris_data['PetalWidthCm'], shade=True)"
   ]
  },
  {
   "cell_type": "markdown",
   "metadata": {},
   "source": [
    "- Same goes for this plot above, *NO* positive or negative skewness so, probably no outliers."
   ]
  },
  {
   "cell_type": "markdown",
   "metadata": {},
   "source": [
    "- So, there are no outliers!"
   ]
  },
  {
   "cell_type": "markdown",
   "metadata": {},
   "source": [
    "#### 4. Feature creation"
   ]
  },
  {
   "cell_type": "markdown",
   "metadata": {},
   "source": [
    "- in the previous eda, we discussed"
   ]
  },
  {
   "cell_type": "code",
   "execution_count": null,
   "metadata": {},
   "outputs": [],
   "source": []
  },
  {
   "cell_type": "code",
   "execution_count": null,
   "metadata": {},
   "outputs": [],
   "source": []
  }
 ],
 "metadata": {
  "kernelspec": {
   "display_name": "Python 3.10.2 ('Prediction-using-Decision-Algorithm-E84x5co8')",
   "language": "python",
   "name": "python3"
  },
  "language_info": {
   "codemirror_mode": {
    "name": "ipython",
    "version": 3
   },
   "file_extension": ".py",
   "mimetype": "text/x-python",
   "name": "python",
   "nbconvert_exporter": "python",
   "pygments_lexer": "ipython3",
   "version": "3.10.2"
  },
  "orig_nbformat": 4,
  "vscode": {
   "interpreter": {
    "hash": "f0a74a8fb4528d201422378e99e9f6d42c5560e49569e3a2da5358c5d0c88fed"
   }
  }
 },
 "nbformat": 4,
 "nbformat_minor": 2
}
